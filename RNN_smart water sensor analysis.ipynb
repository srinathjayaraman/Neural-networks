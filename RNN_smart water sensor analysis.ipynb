{
  "nbformat": 4,
  "nbformat_minor": 0,
  "metadata": {
    "accelerator": "GPU",
    "colab": {
      "name": "Week8_assignment_group11.ipynb",
      "provenance": [],
      "collapsed_sections": [],
      "toc_visible": true
    },
    "kernelspec": {
      "display_name": "Python 3",
      "language": "python",
      "name": "python3"
    },
    "language_info": {
      "codemirror_mode": {
        "name": "ipython",
        "version": 3
      },
      "file_extension": ".py",
      "mimetype": "text/x-python",
      "name": "python",
      "nbconvert_exporter": "python",
      "pygments_lexer": "ipython3",
      "version": "3.7.3"
    }
  },
  "cells": [
    {
      "cell_type": "markdown",
      "metadata": {
        "id": "0nhY8aTqUzg6"
      },
      "source": [
        "## CS4305TU Applied Machine Learning. Week 8 Assignment (Recurrent Neural Networks)\n",
        "\n",
        "### Identification of water end-uses using Deep Learning Neural Networks\n",
        "\n",
        "\n",
        "Welcome to the assignment for Week 8 of your Applied Machine Learning course. In this assigment, you will be tasked with _classifying water end-uses from smart water meter data_ using Deep Learning techniques. \n",
        "\n",
        "<u> Background </u>\n",
        "\n",
        "With the progressive digitalization of the water sector, many residential buildings around the world have now smart water meters installed to measure water consumption. While this information is mainly used for billing purposes, water utilities are figuring out ways to employ this data for implementing sustainable water management strategies. After addressing relevant privacy and ethical issues, analysts can use high-resolution smart meter recordings to identify consumer behaviours and detect leaks occurring within the building. This in turn can lead to substantial water savings.\n",
        "\n",
        "While installing a smart water meter in a household is rather easy, accurate mapping of consumer behaviour entails breaking down the total household water consumption (measured by the smart meter) into **water end-uses**, such as water used for faucets, toilets, showers, washing machines, lawn irrigation, etc. Understanding these end-uses will enable water utilities and household owners to determine where water is wasted, how much and how often, and plan strategies to optimize consumption or identify leaks. \n",
        "\n",
        "To perform this _disaggregation_, analyst usually resort to surveys and checklists, where they ask volunteer households to keep track of their individual consumptions for days as their total consumption is recorded. An alternative approach would be to monitor at the same time total consumption with a smart water meter along with (all) individual end-uses with less intrusive flow meters, as illustrated in Figure 1. This setting enables gathering high-resolution and more accurate data. \n",
        "\n",
        "<center><figure>\n",
        "  <img src=\"https://drive.google.com/uc?id=18PhgHUTbkxIIpi7Q7zY6q_u3_jjUlWSX\" width=600/>\n",
        "<figcaption>Figure 1. Household with collective smart water meter and water end-uses flow meters. \n",
        "\n",
        "<sub><sup>Image credits to https://droughtresources.unl.edu/household-water-use, lcongeek26 and Good Ware from www.flaticon.com. </sup></sub></figcaption>\n",
        "</figure></center>\n",
        "\n",
        "<u> Problem defintion </u>\n",
        "\n",
        "A water utility has carried out an extensive water monitoring campaign involving several households. Following the scheme of Figure 1, smart water meters (totalizers) and individual flow meters have been installed for six common end-uses/appliances:\n",
        "- Toilet;\n",
        "- Shower;\n",
        "- Faucets (taps of different kinds);\n",
        "- Clotheswasher;\n",
        "- Dishwasher;\n",
        "- Bathub.\n",
        "\n",
        "As an analyst of the water utility, your task is to develop an AI-based tool that can perform the multi-class classification shown in Figure 2. Your system will process sequences of readings from the smart water meter, recognize the _signature_ of the particular end-use, and assign it to one of the possible classes. You will develop this tool in a _supervised learning_ manner by employing the labeled datasets made available during the monitoring campaign. If your system generalizes well to unseen data, the water utility will include it in an app for its customers, to allow them to monitor their own consumptions and identify leaks via automatic processing of their smart water meter readings.\n",
        "\n",
        "\n",
        "<center><figure>\n",
        "  <img src=\"https://drive.google.com/uc?id=1gDQeE38Q5AZBBIlmCgSdIOxmgV0XyaAX\" width=800/>\n",
        "<figcaption>Figure 2. Multi-class classification of end-use signature.</figcaption>\n",
        "</figure></center>\n",
        "\n",
        "<u> Dataset details </u>\n",
        "\n",
        "The dataset you will use is created using STREaM, a realistic generator of residential water end-uses (https://github.com/acominola/STREaM). For simplicity, the data does not include water leakages in the pipes or simultaneous occurrance of multiple end-uses. Time series are recorded with a sampling rate of 10 seconds. In the next section, the original dataset is partially illustrated, before the actual *training*, *validation* and *test* dataset are created. The inputs will be made of 10 minutes long **sequences** of smart water meter recordings, that is 60 datapoints spaced at 10 seconds (lenght of sequence _L=60_). The outputs will be **one-hot encoded arrays**, that is vectors with all zeros apart from a single end-use. \n",
        "\n",
        "---\n",
        "---\n"
      ]
    },
    {
      "cell_type": "markdown",
      "metadata": {
        "id": "mfp3jZN1I0t8"
      },
      "source": [
        "#### Link to Google Drive and Load python modules"
      ]
    },
    {
      "cell_type": "code",
      "metadata": {
        "id": "L63B6Jh5HJgM",
        "outputId": "66d2f6c1-e4cd-47f4-d8fd-8832d1d6cb95",
        "colab": {
          "base_uri": "https://localhost:8080/",
          "height": 51
        }
      },
      "source": [
        "# link to Google Drive to access files\n",
        "from google.colab import drive\n",
        "drive.mount('/content/gdrive/', force_remount=True)\n",
        "\n",
        "!ls gdrive "
      ],
      "execution_count": null,
      "outputs": [
        {
          "output_type": "stream",
          "text": [
            "Mounted at /content/gdrive/\n",
            "'My Drive'\n"
          ],
          "name": "stdout"
        }
      ]
    },
    {
      "cell_type": "code",
      "metadata": {
        "id": "495eWFj5FeH5"
      },
      "source": [
        "# generic modules\n",
        "import datetime, os\n",
        "import itertools\n",
        "import time\n",
        "\n",
        "# append working folder\n",
        "import sys\n",
        "working_folder = './gdrive/My Drive/CS4305TU_RNN/'\n",
        "sys.path.append(working_folder)\n",
        "\n",
        "\n",
        "# basic data science modules\n",
        "import numpy as np\n",
        "import pandas as pd\n",
        "import matplotlib.pyplot as plt\n",
        "%matplotlib inline\n",
        "import seaborn as sns\n",
        "\n",
        "# keras\n",
        "from tensorflow.keras.layers import Input, Dense, SimpleRNN, GRU, LSTM, Flatten, Dropout, Bidirectional\n",
        "from tensorflow.keras.models import Model\n",
        "from tensorflow.keras.optimizers import SGD, Adam, RMSprop\n",
        "from tensorflow.keras.callbacks import EarlyStopping, ModelCheckpoint, ReduceLROnPlateau, LearningRateScheduler\n",
        "import tensorflow_addons as tfa\n",
        "import tensorflow as tf\n",
        "\n",
        "# sklearn helper functions\n",
        "from sklearn.preprocessing import MinMaxScaler\n",
        "from sklearn.model_selection import train_test_split\n",
        "from sklearn.metrics import accuracy_score, precision_score, recall_score, f1_score, classification_report, confusion_matrix\n",
        "\n",
        "import time \n",
        "\n",
        "# import additional helper scripts \n",
        "# [NOTE: USE THESE FUNCTIONS, IF YOU WANT, TO COMPUTE THE NUMBER OF WEIGHTS OF ANNs AND PLOT THE CONFUSION MATRIX]\n",
        "# from assignment_utils import *"
      ],
      "execution_count": null,
      "outputs": []
    },
    {
      "cell_type": "code",
      "metadata": {
        "id": "gKRXvFmuZpaP"
      },
      "source": [
        "import itertools\n",
        "import numpy as np\n",
        "import matplotlib.pyplot as plt\n",
        "from tensorflow.keras import backend as K\n",
        "\n",
        "\n",
        "def get_trainable_params(model):\n",
        "    # this function returns the number of trainable parameters in a Keras model\n",
        "    return np.sum([K.count_params(w) for w in model.trainable_weights]).astype(int)\n",
        "  \n",
        "  \n",
        "def plot_confusion_matrix(cm, classes,\n",
        "                          normalize=False,\n",
        "                          title='Confusion matrix',\n",
        "                          cmap=plt.cm.Blues,figsize=(5,5)):\n",
        "    \"\"\"\n",
        "    This function prints and plots the confusion matrix.\n",
        "    Normalization can be applied by setting `normalize=True`.\n",
        "    \n",
        "    adapted from https://scikit-learn.org/0.18/auto_examples/model_selection/plot_confusion_matrix.html\n",
        "    \"\"\"\n",
        "    if normalize:\n",
        "      cm = cm.astype('float') / cm.sum(axis=1)[:, np.newaxis]\n",
        "      print(\"Normalized confusion matrix\")\n",
        "    else:\n",
        "      print('Confusion matrix, without normalization')\n",
        "    \n",
        "    print(cm)\n",
        "    \n",
        "    f, ax = plt.subplots(1,figsize=figsize)\n",
        "    ax.imshow(cm, interpolation='nearest', cmap=cmap,)\n",
        "    ax.set_title(title)\n",
        "    # ax.setcolorbar()\n",
        "    tick_marks = np.arange(len(classes))\n",
        "    plt.xticks(tick_marks, classes, rotation=45)\n",
        "    plt.yticks(tick_marks, classes)\n",
        "    \n",
        "    fmt = '.2f' if normalize else 'd'\n",
        "    thresh = cm.max() / 2.\n",
        "    for i, j in itertools.product(range(cm.shape[0]), range(cm.shape[1])):\n",
        "      ax.text(j, i, format(cm[i, j], fmt),\n",
        "               horizontalalignment=\"center\",\n",
        "               color=\"white\" if cm[i, j] > thresh else \"black\")\n",
        "    \n",
        "    f.tight_layout()\n",
        "    ax.set_ylabel('True label')\n",
        "    ax.set_xlabel('Predicted label')"
      ],
      "execution_count": null,
      "outputs": []
    },
    {
      "cell_type": "markdown",
      "metadata": {
        "id": "5OdXX_laI-ga"
      },
      "source": [
        "#### Load original and visualize dataset"
      ]
    },
    {
      "cell_type": "code",
      "metadata": {
        "id": "gz1IMAWdGoe8"
      },
      "source": [
        "# load data\n",
        "filename = 'household_water_consumption_identification.csv'\n",
        "df = pd.read_csv(working_folder+filename)"
      ],
      "execution_count": null,
      "outputs": []
    },
    {
      "cell_type": "code",
      "metadata": {
        "id": "Td-xxMEJITj3",
        "outputId": "33ccf876-3212-42f2-8eac-064a5dd70728",
        "colab": {
          "base_uri": "https://localhost:8080/",
          "height": 204
        }
      },
      "source": [
        "df.head()"
      ],
      "execution_count": null,
      "outputs": [
        {
          "output_type": "execute_result",
          "data": {
            "text/html": [
              "<div>\n",
              "<style scoped>\n",
              "    .dataframe tbody tr th:only-of-type {\n",
              "        vertical-align: middle;\n",
              "    }\n",
              "\n",
              "    .dataframe tbody tr th {\n",
              "        vertical-align: top;\n",
              "    }\n",
              "\n",
              "    .dataframe thead th {\n",
              "        text-align: right;\n",
              "    }\n",
              "</style>\n",
              "<table border=\"1\" class=\"dataframe\">\n",
              "  <thead>\n",
              "    <tr style=\"text-align: right;\">\n",
              "      <th></th>\n",
              "      <th>h</th>\n",
              "      <th>m</th>\n",
              "      <th>s</th>\n",
              "      <th>toilet</th>\n",
              "      <th>shower</th>\n",
              "      <th>faucet</th>\n",
              "      <th>clotheswasher</th>\n",
              "      <th>dishwasher</th>\n",
              "      <th>bathtub</th>\n",
              "      <th>household</th>\n",
              "      <th>episode</th>\n",
              "    </tr>\n",
              "  </thead>\n",
              "  <tbody>\n",
              "    <tr>\n",
              "      <th>0</th>\n",
              "      <td>2</td>\n",
              "      <td>20</td>\n",
              "      <td>0</td>\n",
              "      <td>0.0</td>\n",
              "      <td>0.0</td>\n",
              "      <td>0.0</td>\n",
              "      <td>0.0</td>\n",
              "      <td>0.0</td>\n",
              "      <td>0.0</td>\n",
              "      <td>0.0</td>\n",
              "      <td>1</td>\n",
              "    </tr>\n",
              "    <tr>\n",
              "      <th>1</th>\n",
              "      <td>2</td>\n",
              "      <td>20</td>\n",
              "      <td>10</td>\n",
              "      <td>0.0</td>\n",
              "      <td>0.0</td>\n",
              "      <td>0.0</td>\n",
              "      <td>0.0</td>\n",
              "      <td>0.0</td>\n",
              "      <td>0.0</td>\n",
              "      <td>0.0</td>\n",
              "      <td>1</td>\n",
              "    </tr>\n",
              "    <tr>\n",
              "      <th>2</th>\n",
              "      <td>2</td>\n",
              "      <td>20</td>\n",
              "      <td>20</td>\n",
              "      <td>0.0</td>\n",
              "      <td>0.0</td>\n",
              "      <td>0.0</td>\n",
              "      <td>0.0</td>\n",
              "      <td>0.0</td>\n",
              "      <td>0.0</td>\n",
              "      <td>0.0</td>\n",
              "      <td>1</td>\n",
              "    </tr>\n",
              "    <tr>\n",
              "      <th>3</th>\n",
              "      <td>2</td>\n",
              "      <td>20</td>\n",
              "      <td>30</td>\n",
              "      <td>0.0</td>\n",
              "      <td>0.0</td>\n",
              "      <td>0.0</td>\n",
              "      <td>0.0</td>\n",
              "      <td>0.0</td>\n",
              "      <td>0.0</td>\n",
              "      <td>0.0</td>\n",
              "      <td>1</td>\n",
              "    </tr>\n",
              "    <tr>\n",
              "      <th>4</th>\n",
              "      <td>2</td>\n",
              "      <td>20</td>\n",
              "      <td>40</td>\n",
              "      <td>0.0</td>\n",
              "      <td>0.0</td>\n",
              "      <td>0.0</td>\n",
              "      <td>0.0</td>\n",
              "      <td>0.0</td>\n",
              "      <td>0.0</td>\n",
              "      <td>0.0</td>\n",
              "      <td>1</td>\n",
              "    </tr>\n",
              "  </tbody>\n",
              "</table>\n",
              "</div>"
            ],
            "text/plain": [
              "   h   m   s  toilet  ...  dishwasher  bathtub  household  episode\n",
              "0  2  20   0     0.0  ...         0.0      0.0        0.0        1\n",
              "1  2  20  10     0.0  ...         0.0      0.0        0.0        1\n",
              "2  2  20  20     0.0  ...         0.0      0.0        0.0        1\n",
              "3  2  20  30     0.0  ...         0.0      0.0        0.0        1\n",
              "4  2  20  40     0.0  ...         0.0      0.0        0.0        1\n",
              "\n",
              "[5 rows x 11 columns]"
            ]
          },
          "metadata": {
            "tags": []
          },
          "execution_count": 5
        }
      ]
    },
    {
      "cell_type": "markdown",
      "metadata": {
        "id": "gIbiOo0pvwCs"
      },
      "source": [
        "The original dataset is in tabular form. The columns contain information on:\n",
        "- the timestamp of each recording (no date, only time in hour, minutes, seconds);\n",
        "- the volume of water at each timestamp for each water end-use;\n",
        "- the overal volume of water consumed by the _household_ in that timestamp;\n",
        "- the _episode_ (10 minutes long sequence) to which the recording belongs."
      ]
    },
    {
      "cell_type": "code",
      "metadata": {
        "id": "S68mQRfiIW2l"
      },
      "source": [
        "# water end-uses/appliances\n",
        "end_uses = ['toilet','shower','faucet','clotheswasher','dishwasher','bathtub']"
      ],
      "execution_count": null,
      "outputs": []
    },
    {
      "cell_type": "markdown",
      "metadata": {
        "id": "QoWtzYZQwpUy"
      },
      "source": [
        "Let us quickly visualize typical singatures for each end use. \n",
        "\n",
        "<u>Run the cell below multiple times with a differen random seed to see different events for each water end-use</u>.\n",
        "\n",
        "<sub>_Note:_ Is not important if you do not understand everything the code below; focus on the visualized results.</sub>"
      ]
    },
    {
      "cell_type": "code",
      "metadata": {
        "id": "mq_fLJBywoGS",
        "outputId": "a12ee800-1d37-4ed9-88f4-ffa32212d255",
        "colab": {
          "base_uri": "https://localhost:8080/",
          "height": 441
        }
      },
      "source": [
        "# choose random seed\n",
        "np.random.seed(666)\n",
        "\n",
        "# initialize figure with subplots\n",
        "f, axes = plt.subplots(2,3, figsize=(20,6))\n",
        "\n",
        "# grouped dataset \n",
        "temp = df.groupby('episode').sum()[end_uses]\n",
        "\n",
        "for ax, end_use in zip(axes.reshape(-1),end_uses):\n",
        "  # select one episode at random for each end_use\n",
        "  episodes_with_end_use = temp[temp[end_use]>0].index.tolist()\n",
        "  episode = np.random.choice(episodes_with_end_use)\n",
        "  df.groupby('episode').get_group(episode)[end_use].plot(label=end_use, ax=ax);\n",
        "  df.groupby('episode').get_group(episode)['household'].plot(ls='--', c='k', label='household', ax=ax);\n",
        "  ax.set_xticks([])  \n",
        "  ax.set_ylabel('Water volume [liters]')\n",
        "  ax.legend()\n",
        "f.tight_layout()"
      ],
      "execution_count": null,
      "outputs": [
        {
          "output_type": "display_data",
          "data": {
            "image/png": "[encoded data removed]",
            "text/plain": [
              "<Figure size 1440x432 with 6 Axes>"
            ]
          },
          "metadata": {
            "tags": [],
            "needs_background": "light"
          }
        }
      ]
    },
    {
      "cell_type": "markdown",
      "metadata": {
        "id": "35nlMIi31ZHT"
      },
      "source": [
        "You can see that measurments taken locally for each end-use differ slightly from the recordings at household level. This is because the flow sensors and smart water meter are different instruments, with different accuracies and subject to different noise."
      ]
    },
    {
      "cell_type": "markdown",
      "metadata": {
        "id": "4Ln9Up-RJnDA"
      },
      "source": [
        "Let's now check if there is only 1 water end-use for each episode and let's check how many epsisodes are related to each type of end-use. This can be perfomed, for instance, after creating an auxiliary dataframe by grouping the original dataset by each episode and summing and individual water consumptions together within each episode. \n",
        "\n",
        "\n",
        "<sub>_Note:_ Is not important if you do not understand everything the code below; focus on the visualizeed results.</sub>"
      ]
    },
    {
      "cell_type": "code",
      "metadata": {
        "id": "5GKqGlEIIcZt",
        "outputId": "435aa3e6-35ab-4e9b-f53a-5cccb8fadfd3",
        "colab": {
          "base_uri": "https://localhost:8080/",
          "height": 235
        }
      },
      "source": [
        "temp = df.groupby('episode')[end_uses].sum()\n",
        "temp.head()"
      ],
      "execution_count": null,
      "outputs": [
        {
          "output_type": "execute_result",
          "data": {
            "text/html": [
              "<div>\n",
              "<style scoped>\n",
              "    .dataframe tbody tr th:only-of-type {\n",
              "        vertical-align: middle;\n",
              "    }\n",
              "\n",
              "    .dataframe tbody tr th {\n",
              "        vertical-align: top;\n",
              "    }\n",
              "\n",
              "    .dataframe thead th {\n",
              "        text-align: right;\n",
              "    }\n",
              "</style>\n",
              "<table border=\"1\" class=\"dataframe\">\n",
              "  <thead>\n",
              "    <tr style=\"text-align: right;\">\n",
              "      <th></th>\n",
              "      <th>toilet</th>\n",
              "      <th>shower</th>\n",
              "      <th>faucet</th>\n",
              "      <th>clotheswasher</th>\n",
              "      <th>dishwasher</th>\n",
              "      <th>bathtub</th>\n",
              "    </tr>\n",
              "    <tr>\n",
              "      <th>episode</th>\n",
              "      <th></th>\n",
              "      <th></th>\n",
              "      <th></th>\n",
              "      <th></th>\n",
              "      <th></th>\n",
              "      <th></th>\n",
              "    </tr>\n",
              "  </thead>\n",
              "  <tbody>\n",
              "    <tr>\n",
              "      <th>1</th>\n",
              "      <td>6.95</td>\n",
              "      <td>0.0</td>\n",
              "      <td>0.00</td>\n",
              "      <td>0.00</td>\n",
              "      <td>0.0</td>\n",
              "      <td>0.00</td>\n",
              "    </tr>\n",
              "    <tr>\n",
              "      <th>6</th>\n",
              "      <td>0.00</td>\n",
              "      <td>0.0</td>\n",
              "      <td>0.00</td>\n",
              "      <td>2.63</td>\n",
              "      <td>0.0</td>\n",
              "      <td>0.00</td>\n",
              "    </tr>\n",
              "    <tr>\n",
              "      <th>21</th>\n",
              "      <td>0.00</td>\n",
              "      <td>0.0</td>\n",
              "      <td>0.00</td>\n",
              "      <td>3.09</td>\n",
              "      <td>0.0</td>\n",
              "      <td>0.00</td>\n",
              "    </tr>\n",
              "    <tr>\n",
              "      <th>37</th>\n",
              "      <td>0.00</td>\n",
              "      <td>0.0</td>\n",
              "      <td>0.00</td>\n",
              "      <td>0.00</td>\n",
              "      <td>0.0</td>\n",
              "      <td>7.13</td>\n",
              "    </tr>\n",
              "    <tr>\n",
              "      <th>141</th>\n",
              "      <td>0.00</td>\n",
              "      <td>0.0</td>\n",
              "      <td>9.12</td>\n",
              "      <td>0.00</td>\n",
              "      <td>0.0</td>\n",
              "      <td>0.00</td>\n",
              "    </tr>\n",
              "  </tbody>\n",
              "</table>\n",
              "</div>"
            ],
            "text/plain": [
              "         toilet  shower  faucet  clotheswasher  dishwasher  bathtub\n",
              "episode                                                            \n",
              "1          6.95     0.0    0.00           0.00         0.0     0.00\n",
              "6          0.00     0.0    0.00           2.63         0.0     0.00\n",
              "21         0.00     0.0    0.00           3.09         0.0     0.00\n",
              "37         0.00     0.0    0.00           0.00         0.0     7.13\n",
              "141        0.00     0.0    9.12           0.00         0.0     0.00"
            ]
          },
          "metadata": {
            "tags": []
          },
          "execution_count": 8
        }
      ]
    },
    {
      "cell_type": "markdown",
      "metadata": {
        "id": "ebxCyv4fL5nP"
      },
      "source": [
        "Now we check whether each cell is greater than zero and by summing instances row-wise and column-wise we can answer the two questions. You can do this by specifying the correct axis."
      ]
    },
    {
      "cell_type": "code",
      "metadata": {
        "id": "9vQrqKm3J6sG",
        "outputId": "866387ea-d666-46d5-c948-1ef1b6038bf6",
        "colab": {
          "base_uri": "https://localhost:8080/",
          "height": 392
        }
      },
      "source": [
        "# check if we only have one end use for each episode\n",
        "(temp>0).sum(axis=1).unique()\n",
        "\n",
        "# check water end use distribution \n",
        "print((temp>0).sum(axis=0))\n",
        "n_episodes = len(temp)\n",
        "(((temp>0).sum(axis=0)/n_episodes)*100).plot(kind='bar', figsize=(3,3))\n",
        "plt.gca().set_ylabel('Percentage [%]');"
      ],
      "execution_count": null,
      "outputs": [
        {
          "output_type": "stream",
          "text": [
            "toilet           14205\n",
            "shower           12577\n",
            "faucet           19687\n",
            "clotheswasher    12147\n",
            "dishwasher       11573\n",
            "bathtub           6849\n",
            "dtype: int64\n"
          ],
          "name": "stdout"
        },
        {
          "output_type": "display_data",
          "data": {
            "image/png": "[encoded data removed]",
            "text/plain": [
              "<Figure size 216x216 with 1 Axes>"
            ]
          },
          "metadata": {
            "tags": [],
            "needs_background": "light"
          }
        }
      ]
    },
    {
      "cell_type": "markdown",
      "metadata": {
        "id": "seNlFqgjOMyu"
      },
      "source": [
        "We now know that we have exactly a single end use for each recorded episode, and that we have a slightly unbalanced datasets: *faucets* are more represented than the remaining items. *Bathub* events are less common than the others."
      ]
    },
    {
      "cell_type": "markdown",
      "metadata": {
        "id": "0vyYu9p61qXE"
      },
      "source": [
        "#### Creation of training, validation and test datasets."
      ]
    },
    {
      "cell_type": "markdown",
      "metadata": {
        "id": "duedkKMpRiYG"
      },
      "source": [
        "We now create the final datasets that you will be using for this assignment. You are tasked with identifying end-uses by their signature as recorded by the smart water meter during each episode. As such, each input entry of your dataset will be a **sequence** of lenght $L = 60$, while outputs are **one-hot encoded vectors** with all zeros apart from the appliance/end-use\n",
        "\n",
        "<sub>_Note:_ Is not important if you do not understand everything the code below. Just make use correctly of the datasets for the remainder of your assignment.</sub>"
      ]
    },
    {
      "cell_type": "code",
      "metadata": {
        "id": "605EX61QXNaq",
        "outputId": "b531bc29-51a1-4dc3-a734-a89636567414",
        "colab": {
          "base_uri": "https://localhost:8080/",
          "height": 68
        }
      },
      "source": [
        "def create_dataset(df):\n",
        "  # group each episode (they will be sorted automatically based on current order)\n",
        "  df_grouped = df.groupby('episode')\n",
        "  X,Y = [],[]\n",
        "  for group_name, df_group in df_grouped:\n",
        "    x = df_group.household.values\n",
        "    X.append(x)\n",
        "    y = df_group[end_uses].values\n",
        "    Y.append(y.sum(axis=0)>0)\n",
        "  X = np.array(X)\n",
        "  Y = np.array(Y)\n",
        "  return X,Y\n",
        "\n",
        "# tra = training, val = validation (early stopping), tst = testing (unseen)\n",
        "L = 60 # 10 minutes episode length, sampled every 10 seconds\n",
        "X,Y = create_dataset(df)\n",
        "Xtra,Xval,Ytra,Yval = train_test_split(X,Y,test_size=0.25,shuffle=False)\n",
        "Xval,Xtst,Yval,Ytst = train_test_split(Xval,Yval,test_size=0.5,shuffle=False)\n",
        "\n",
        "print(f\"X.shape: {Xtra.shape}, Y.shape: {Ytra.shape}\")\n",
        "print(f\"X.shape: {Xval.shape}, Y.shape: {Yval.shape}\")\n",
        "print(f\"X.shape: {Xtst.shape}, Y.shape: {Ytst.shape}\")"
      ],
      "execution_count": null,
      "outputs": [
        {
          "output_type": "stream",
          "text": [
            "X.shape: (57778, 60), Y.shape: (57778, 6)\n",
            "X.shape: (9630, 60), Y.shape: (9630, 6)\n",
            "X.shape: (9630, 60), Y.shape: (9630, 6)\n"
          ],
          "name": "stdout"
        }
      ]
    },
    {
      "cell_type": "code",
      "metadata": {
        "id": "QAkPcJH22Xwo"
      },
      "source": [
        "# rescale input dataset (no need for outputs as they are are one-hot-encoded classes)\n",
        "Sx=MinMaxScaler([0,1])\n",
        "Xtra = Sx.fit_transform(Xtra)\n",
        "Xval = Sx.transform(Xval)\n",
        "Xtst = Sx.transform(Xtst) "
      ],
      "execution_count": null,
      "outputs": []
    },
    {
      "cell_type": "markdown",
      "metadata": {
        "id": "9Or8LZUWxV07"
      },
      "source": [
        "### Beginning of assignment!"
      ]
    },
    {
      "cell_type": "markdown",
      "metadata": {
        "id": "lP4wRnfx29Xt"
      },
      "source": [
        "#### Part 1. <u> Train a Feed-forward Neural Network that will be used as benchmark</u>.\n",
        "\n",
        "You are asked to train several FNNs architectures (between 5 and 10) in order to identify a good benchmark for the *water end-use multiclass classification problem*. The benchmark model will be refined later in the assignment. \n",
        "\n",
        "_Instructions_\n",
        "- Try single layer as well as double layer FNNs;\n",
        "- Limit the total number of neurons in each layer to 100;\n",
        "- Use dropout and early stopping (callback) to reduce overfitting;\n",
        "- Limit training epochs to 200 and use time stopping (callback) to reduce computational time to a max of 5 minutes for each model;\n",
        "- Use the Adam optimizer, and set learning rate to 0.010;\n",
        "- Use a batch size of 256.\n",
        "\n",
        "_Questions_\n",
        "- For each trained architecture, store the *best value for the validation loss*, *number of trainable parameters*, and *training time*;\n",
        "- Select the benchmark architecture and motivate why. This FNN will be refined later along with the most promising RNN architecture.\n",
        "- Plot the training/validation history of the selected FNN architecture"
      ]
    },
    {
      "cell_type": "code",
      "metadata": {
        "id": "l0MW5OTnfl8v"
      },
      "source": [
        "# practice test_model\n",
        "\n",
        "# code adapted from provided 'UrbanFloodingForecasting.ipynb' and 'Different_RNNs_and_trainable_parameters.ipynb'\n",
        "\n",
        "# Function for model creation\n",
        "def FNNmodel(n_hidden_neurons=10, dropout_rate=0.1, FNN_layer=  1):\n",
        "\n",
        "  if FNN_layer == 1:\n",
        "    i = Input(shape=(L,))      \n",
        "    x = Dense(10, activation='sigmoid', name='Hidden_layer_1')(i)\n",
        "    x = Dropout(dropout_rate)(x)\n",
        "    x = Dense(6, activation='sigmoid', name='Output')(x)  \n",
        "    model = Model(i,x)\n",
        "\n",
        "  elif FNN_layer == 2:\n",
        "    i = Input(shape=(L,))      \n",
        "    x = Dense(10, activation='sigmoid', name='Hidden_layer_1')(i)\n",
        "    x = Dense(10, activation='sigmoid', name='Hidden_layer_2')(x)\n",
        "    x = Dropout(dropout_rate)(x)\n",
        "    x = Dense(6, activation='sigmoid', name='Output')(x)  \n",
        "    model = Model(i,x)\n",
        "\n",
        "  return model"
      ],
      "execution_count": null,
      "outputs": []
    },
    {
      "cell_type": "code",
      "metadata": {
        "id": "LMvQhQnaFeDf"
      },
      "source": [
        "# practice test_model\n",
        "\n",
        "# code adapted from provided 'UrbanFloodingForecasting.ipynb'\n",
        "\n",
        "model_test = FNNmodel(n_hidden_neurons = 100, dropout_rate = 0.01, FNN_layer=  2)"
      ],
      "execution_count": null,
      "outputs": []
    },
    {
      "cell_type": "code",
      "metadata": {
        "id": "80XtuIgHJO_3",
        "outputId": "5ce95a2d-e1fa-4c26-f30d-c3fc3df78957",
        "colab": {
          "base_uri": "https://localhost:8080/",
          "height": 323
        }
      },
      "source": [
        "# practice test_model\n",
        "model_test.summary()"
      ],
      "execution_count": null,
      "outputs": [
        {
          "output_type": "stream",
          "text": [
            "Model: \"functional_1\"\n",
            "_________________________________________________________________\n",
            "Layer (type)                 Output Shape              Param #   \n",
            "=================================================================\n",
            "input_1 (InputLayer)         [(None, 60)]              0         \n",
            "_________________________________________________________________\n",
            "Hidden_layer_1 (Dense)       (None, 10)                610       \n",
            "_________________________________________________________________\n",
            "Hidden_layer_2 (Dense)       (None, 10)                110       \n",
            "_________________________________________________________________\n",
            "dropout (Dropout)            (None, 10)                0         \n",
            "_________________________________________________________________\n",
            "Output (Dense)               (None, 6)                 66        \n",
            "=================================================================\n",
            "Total params: 786\n",
            "Trainable params: 786\n",
            "Non-trainable params: 0\n",
            "_________________________________________________________________\n"
          ],
          "name": "stdout"
        }
      ]
    },
    {
      "cell_type": "code",
      "metadata": {
        "id": "FlH9IvxNGV_n"
      },
      "source": [
        "# practice test_model\n",
        "\n",
        "# code adapted from provided 'UrbanFloodingForecasting.ipynb'\n",
        "\n",
        "model_test.compile(loss='binary_crossentropy',optimizer=Adam(lr=0.01), metrics=['accuracy'])\n",
        "r = model_test.fit(Xtra, Ytra,epochs=30,validation_data = (Xval, Yval), verbose=0, batch_size=256)"
      ],
      "execution_count": null,
      "outputs": []
    },
    {
      "cell_type": "code",
      "metadata": {
        "id": "f2yX-zr7Jra1",
        "outputId": "1df82886-a1e4-4a55-87a0-092838a878f8",
        "colab": {
          "base_uri": "https://localhost:8080/",
          "height": 1000
        }
      },
      "source": [
        "# practice test_model\n",
        "r.history"
      ],
      "execution_count": null,
      "outputs": [
        {
          "output_type": "execute_result",
          "data": {
            "text/plain": [
              "{'accuracy': [0.2539721131324768,\n",
              "  0.3790023922920227,\n",
              "  0.3861331343650818,\n",
              "  0.38445428013801575,\n",
              "  0.3846619725227356,\n",
              "  0.3895254135131836,\n",
              "  0.4010522961616516,\n",
              "  0.40717920660972595,\n",
              "  0.41098687052726746,\n",
              "  0.4134964942932129,\n",
              "  0.4157464802265167,\n",
              "  0.4191041588783264,\n",
              "  0.41818684339523315,\n",
              "  0.4221675992012024,\n",
              "  0.42330992221832275,\n",
              "  0.4248676002025604,\n",
              "  0.4290906488895416,\n",
              "  0.4321887195110321,\n",
              "  0.431963711977005,\n",
              "  0.43462908267974854,\n",
              "  0.4376233220100403,\n",
              "  0.43899062275886536,\n",
              "  0.4374329447746277,\n",
              "  0.439959853887558,\n",
              "  0.4431617558002472,\n",
              "  0.4440271258354187,\n",
              "  0.44638097286224365,\n",
              "  0.44958287477493286,\n",
              "  0.4491155743598938,\n",
              "  0.4523521065711975],\n",
              " 'loss': [0.4539576470851898,\n",
              "  0.3751969039440155,\n",
              "  0.35958150029182434,\n",
              "  0.35233378410339355,\n",
              "  0.34551095962524414,\n",
              "  0.34076300263404846,\n",
              "  0.33657822012901306,\n",
              "  0.333344429731369,\n",
              "  0.3307638168334961,\n",
              "  0.3290884494781494,\n",
              "  0.327791690826416,\n",
              "  0.3266727030277252,\n",
              "  0.3258238732814789,\n",
              "  0.325186550617218,\n",
              "  0.32431408762931824,\n",
              "  0.3237592875957489,\n",
              "  0.3230625092983246,\n",
              "  0.3225315511226654,\n",
              "  0.32186979055404663,\n",
              "  0.3213891088962555,\n",
              "  0.32098090648651123,\n",
              "  0.3203306198120117,\n",
              "  0.3200139105319977,\n",
              "  0.31918787956237793,\n",
              "  0.31873297691345215,\n",
              "  0.31836435198783875,\n",
              "  0.3175399601459503,\n",
              "  0.3170038163661957,\n",
              "  0.3163678050041199,\n",
              "  0.3155810236930847],\n",
              " 'val_accuracy': [0.3697819411754608,\n",
              "  0.38276219367980957,\n",
              "  0.384112149477005,\n",
              "  0.3835929334163666,\n",
              "  0.38473519682884216,\n",
              "  0.39698857069015503,\n",
              "  0.394807904958725,\n",
              "  0.41277259588241577,\n",
              "  0.41578400135040283,\n",
              "  0.40903428196907043,\n",
              "  0.4159916937351227,\n",
              "  0.41703012585639954,\n",
              "  0.41308411955833435,\n",
              "  0.4168224334716797,\n",
              "  0.4184839129447937,\n",
              "  0.4179646968841553,\n",
              "  0.419730007648468,\n",
              "  0.420560747385025,\n",
              "  0.4225337505340576,\n",
              "  0.42139148712158203,\n",
              "  0.4259605407714844,\n",
              "  0.4288681149482727,\n",
              "  0.42222222685813904,\n",
              "  0.4325025975704193,\n",
              "  0.43457943201065063,\n",
              "  0.42824506759643555,\n",
              "  0.43997922539711,\n",
              "  0.4347871243953705,\n",
              "  0.43665629625320435,\n",
              "  0.44465214014053345],\n",
              " 'val_loss': [0.4082074463367462,\n",
              "  0.36336106061935425,\n",
              "  0.35670554637908936,\n",
              "  0.3483341336250305,\n",
              "  0.3425798714160919,\n",
              "  0.3384120464324951,\n",
              "  0.33451229333877563,\n",
              "  0.3317926824092865,\n",
              "  0.32929548621177673,\n",
              "  0.3284970819950104,\n",
              "  0.32689109444618225,\n",
              "  0.32617688179016113,\n",
              "  0.32506585121154785,\n",
              "  0.3248312473297119,\n",
              "  0.32406705617904663,\n",
              "  0.3234281837940216,\n",
              "  0.3228999972343445,\n",
              "  0.32239577174186707,\n",
              "  0.32201844453811646,\n",
              "  0.32185617089271545,\n",
              "  0.3209651708602905,\n",
              "  0.3204384446144104,\n",
              "  0.31965768337249756,\n",
              "  0.3197673559188843,\n",
              "  0.31915783882141113,\n",
              "  0.3185310959815979,\n",
              "  0.3176059126853943,\n",
              "  0.3183545470237732,\n",
              "  0.31621891260147095,\n",
              "  0.3158610761165619]}"
            ]
          },
          "metadata": {
            "tags": []
          },
          "execution_count": 16
        }
      ]
    },
    {
      "cell_type": "code",
      "metadata": {
        "id": "ZdinaNH_Impw"
      },
      "source": [
        "# code adapted from provided 'UrbanFloodingForecasting.ipynb' and 'Different_RNNs_and_trainable_parameters.ipynb'\n",
        "\n",
        "# function for model creation\n",
        "def FNNmodel(n_hidden_neurons=10, dropout_rate=0.1, FNN_layer=  1):\n",
        "\n",
        "  if FNN_layer == 1:\n",
        "    i = Input(shape=(L,))      \n",
        "    x = Dense(neurons, activation='sigmoid', name='Hidden_layer_1')(i)\n",
        "    x = Dropout(dropout_rate)(x)\n",
        "    x = Dense(6, activation='sigmoid', name='Output')(x)  \n",
        "    model = Model(i,x)\n",
        "\n",
        "  elif FNN_layer == 2:\n",
        "    i = Input(shape=(L,))      \n",
        "    x = Dense(neurons, activation='sigmoid', name='Hidden_layer_1')(i)\n",
        "    x = Dense(neurons, activation='sigmoid', name='Hidden_layer_2')(x)\n",
        "    x = Dropout(dropout_rate)(x)\n",
        "    x = Dense(6, activation='sigmoid', name='Output')(x)  \n",
        "    model = Model(i,x)\n",
        "\n",
        "  return model"
      ],
      "execution_count": null,
      "outputs": []
    },
    {
      "cell_type": "code",
      "metadata": {
        "id": "K1f-q73Mflmx",
        "outputId": "df64e0bf-dad4-4f3e-c535-c49aa80b9ef5",
        "colab": {
          "base_uri": "https://localhost:8080/",
          "height": 170
        }
      },
      "source": [
        "# code adapted from provided 'UrbanFloodingForecasting.ipynb'\n",
        "\n",
        "# create model combinations (using itertools product)\n",
        "ANN_type = ['FNN']\n",
        "neurons = [75,100]\n",
        "dropout_rate = [0,0.25]\n",
        "lr = [0.01]\n",
        "batch_size = [256]\n",
        "FNN_layer = [1,2]\n",
        "\n",
        "all_combinations = list(itertools.product(*[ANN_type,neurons,dropout_rate,lr,batch_size, FNN_layer]))\n",
        "print(pd.DataFrame(data=all_combinations, columns=['ann_type','neurons','dropout_rate','lr','batch_size', 'FNN_layer']))"
      ],
      "execution_count": null,
      "outputs": [
        {
          "output_type": "stream",
          "text": [
            "  ann_type  neurons  dropout_rate    lr  batch_size  FNN_layer\n",
            "0      FNN       75          0.00  0.01         256          1\n",
            "1      FNN       75          0.00  0.01         256          2\n",
            "2      FNN       75          0.25  0.01         256          1\n",
            "3      FNN       75          0.25  0.01         256          2\n",
            "4      FNN      100          0.00  0.01         256          1\n",
            "5      FNN      100          0.00  0.01         256          2\n",
            "6      FNN      100          0.25  0.01         256          1\n",
            "7      FNN      100          0.25  0.01         256          2\n"
          ],
          "name": "stdout"
        }
      ]
    },
    {
      "cell_type": "code",
      "metadata": {
        "id": "FJIahSvwfrJV",
        "outputId": "344d2f83-6ec5-4370-ce69-95a75213d479",
        "colab": {
          "base_uri": "https://localhost:8080/",
          "height": 867
        }
      },
      "source": [
        "# code adapted from provided 'UrbanFloodingForecasting.ipynb'\n",
        "\n",
        "# result df \n",
        "res_df_rnn = pd.DataFrame(index=np.arange(len(all_combinations)), \n",
        "                      columns=['ann_type','neurons','dropout_rate','lr','batch_size','FNN_layer','model_name',\n",
        "                               'tr_loss','val_loss','tr_acc','val_acc','val_f1score','elapsed_time','trainable_params'])\n",
        "\n",
        "rs = [] # histories\n",
        "\n",
        "for i, combination in enumerate(all_combinations):\n",
        "  # extract parameters and create model name  \n",
        "  ANN_type, neurons, dropout_rate, lr, batch_size, FNN_layer = combination\n",
        "  model_name = f\"{ANN_type}_neurons={neurons}_dropout={dropout_rate}_lr={lr}_bsize={batch_size}_FNN_layer{FNN_layer}\"\n",
        "  # store in res_df \n",
        "  res_df_rnn.loc[i,['ann_type','neurons', 'dropout_rate','lr','batch_size','FNN_layer','model_name']] = combination + (model_name,)\n",
        "\n",
        "  # call backs\n",
        "  earlyStopping = EarlyStopping(monitor='val_loss', patience=50, verbose=1,  min_delta=1e-6, mode='auto')\n",
        "  modelCheckpoint = ModelCheckpoint(f'{working_folder}{model_name}.hdf5', save_best_only=True, monitor='val_loss', mode='auto', save_weights_only=True)\n",
        "  timeStopping = tfa.callbacks.TimeStopping(seconds=5*60, verbose=1)  \n",
        "  callbacks = [earlyStopping, modelCheckpoint, timeStopping]\n",
        "\n",
        "  # create model\n",
        "  model = FNNmodel(n_hidden_neurons = neurons, dropout_rate = dropout_rate, FNN_layer = FNN_layer)\n",
        "\n",
        "\n",
        "  # compile\n",
        "  model.compile(loss='binary_crossentropy',optimizer=Adam(lr=lr), metrics=['accuracy'])\n",
        "\n",
        "  # echo screen\n",
        "  print(f'Training {model_name}, #{i+1} of {len(all_combinations)}')\n",
        "  # train\n",
        "  start_time = time.time()\n",
        "  r = model.fit(Xtra, Ytra,epochs=200,validation_data = (Xval, Yval), callbacks=callbacks, verbose=0, batch_size=batch_size)\n",
        "  # append history\n",
        "  rs.append(r)\n",
        "  # store results\n",
        "  res_df_rnn.loc[i,'elapsed_time'] = time.time() - start_time\n",
        "  best_ix = np.array(r.history['val_loss']).argmin()\n",
        "  res_df_rnn.loc[i,['tr_loss','val_loss','tr_acc','val_acc']] = [r.history['loss'][best_ix],r.history['val_loss'][best_ix],\n",
        "                                                                 r.history['accuracy'][best_ix],r.history['val_accuracy'][best_ix]]     \n",
        "  res_df_rnn.loc[i,'trainable_params'] = get_trainable_params(model)\n",
        "  # load weights and compute f1_score\n",
        "  model.load_weights(f'{working_folder}{model_name}.hdf5')\n",
        "  Yval_pred = (model.predict(Xval)>0.5).astype(int)\n",
        "  res_df_rnn.loc[i,['val_f1score']] = f1_score(Yval,Yval_pred, average = 'weighted') #'weighted' for average because we have label imbalance (https://scikit-learn.org/stable/modules/generated/sklearn.metrics.f1_score.html)\n",
        "  print(res_df_rnn.loc[i,['elapsed_time','val_loss','val_acc','val_f1score']])"
      ],
      "execution_count": null,
      "outputs": [
        {
          "output_type": "stream",
          "text": [
            "Training FNN_neurons=75_dropout=0_lr=0.01_bsize=256_FNN_layer1, #1 of 8\n",
            "elapsed_time     110.863\n",
            "val_loss        0.262277\n",
            "val_acc         0.612876\n",
            "val_f1score     0.547207\n",
            "Name: 0, dtype: object\n",
            "Training FNN_neurons=75_dropout=0_lr=0.01_bsize=256_FNN_layer2, #2 of 8\n",
            "Epoch 00146: early stopping\n",
            "elapsed_time     83.9729\n",
            "val_loss         0.25745\n",
            "val_acc         0.609865\n",
            "val_f1score     0.546328\n",
            "Name: 1, dtype: object\n",
            "Training FNN_neurons=75_dropout=0.25_lr=0.01_bsize=256_FNN_layer1, #3 of 8\n",
            "elapsed_time     110.161\n",
            "val_loss        0.271925\n",
            "val_acc         0.576116\n",
            "val_f1score      0.43188\n",
            "Name: 2, dtype: object\n",
            "Training FNN_neurons=75_dropout=0.25_lr=0.01_bsize=256_FNN_layer2, #4 of 8\n",
            "elapsed_time      115.32\n",
            "val_loss        0.252887\n",
            "val_acc         0.620768\n",
            "val_f1score      0.54518\n",
            "Name: 3, dtype: object\n",
            "Training FNN_neurons=100_dropout=0_lr=0.01_bsize=256_FNN_layer1, #5 of 8\n",
            "elapsed_time      110.34\n",
            "val_loss        0.259002\n",
            "val_acc         0.613084\n",
            "val_f1score     0.532511\n",
            "Name: 4, dtype: object\n",
            "Training FNN_neurons=100_dropout=0_lr=0.01_bsize=256_FNN_layer2, #6 of 8\n",
            "Epoch 00130: early stopping\n",
            "elapsed_time     75.2754\n",
            "val_loss        0.255375\n",
            "val_acc         0.623261\n",
            "val_f1score     0.566594\n",
            "Name: 5, dtype: object\n",
            "Training FNN_neurons=100_dropout=0.25_lr=0.01_bsize=256_FNN_layer1, #7 of 8\n",
            "elapsed_time     111.152\n",
            "val_loss        0.269409\n",
            "val_acc         0.578193\n",
            "val_f1score     0.446803\n",
            "Name: 6, dtype: object\n",
            "Training FNN_neurons=100_dropout=0.25_lr=0.01_bsize=256_FNN_layer2, #8 of 8\n",
            "elapsed_time     115.494\n",
            "val_loss        0.251523\n",
            "val_acc         0.640395\n",
            "val_f1score     0.559982\n",
            "Name: 7, dtype: object\n"
          ],
          "name": "stdout"
        }
      ]
    },
    {
      "cell_type": "code",
      "metadata": {
        "id": "8TOrP8toVY82"
      },
      "source": [
        "# save df of results\n",
        "res_df_rnn.to_csv(working_folder + 'Model_fnn_results.csv')"
      ],
      "execution_count": null,
      "outputs": []
    },
    {
      "cell_type": "code",
      "metadata": {
        "id": "aML-Zn59fq3Z",
        "outputId": "cb9ccbe8-55bc-4a72-9cfc-c5a81987e094",
        "colab": {
          "base_uri": "https://localhost:8080/",
          "height": 297
        }
      },
      "source": [
        "# code adapted from provided 'UrbanFloodingForecasting.ipynb'\n",
        "\n",
        "res_df_rnn.sort_values(by='val_loss')"
      ],
      "execution_count": null,
      "outputs": [
        {
          "output_type": "execute_result",
          "data": {
            "text/html": [
              "<div>\n",
              "<style scoped>\n",
              "    .dataframe tbody tr th:only-of-type {\n",
              "        vertical-align: middle;\n",
              "    }\n",
              "\n",
              "    .dataframe tbody tr th {\n",
              "        vertical-align: top;\n",
              "    }\n",
              "\n",
              "    .dataframe thead th {\n",
              "        text-align: right;\n",
              "    }\n",
              "</style>\n",
              "<table border=\"1\" class=\"dataframe\">\n",
              "  <thead>\n",
              "    <tr style=\"text-align: right;\">\n",
              "      <th></th>\n",
              "      <th>ann_type</th>\n",
              "      <th>neurons</th>\n",
              "      <th>dropout_rate</th>\n",
              "      <th>lr</th>\n",
              "      <th>batch_size</th>\n",
              "      <th>FNN_layer</th>\n",
              "      <th>model_name</th>\n",
              "      <th>tr_loss</th>\n",
              "      <th>val_loss</th>\n",
              "      <th>tr_acc</th>\n",
              "      <th>val_acc</th>\n",
              "      <th>val_f1score</th>\n",
              "      <th>elapsed_time</th>\n",
              "      <th>trainable_params</th>\n",
              "    </tr>\n",
              "  </thead>\n",
              "  <tbody>\n",
              "    <tr>\n",
              "      <th>7</th>\n",
              "      <td>FNN</td>\n",
              "      <td>100</td>\n",
              "      <td>0.25</td>\n",
              "      <td>0.01</td>\n",
              "      <td>256</td>\n",
              "      <td>2</td>\n",
              "      <td>FNN_neurons=100_dropout=0.25_lr=0.01_bsize=256...</td>\n",
              "      <td>0.233626</td>\n",
              "      <td>0.251523</td>\n",
              "      <td>0.643913</td>\n",
              "      <td>0.640395</td>\n",
              "      <td>0.559982</td>\n",
              "      <td>115.494</td>\n",
              "      <td>16806</td>\n",
              "    </tr>\n",
              "    <tr>\n",
              "      <th>3</th>\n",
              "      <td>FNN</td>\n",
              "      <td>75</td>\n",
              "      <td>0.25</td>\n",
              "      <td>0.01</td>\n",
              "      <td>256</td>\n",
              "      <td>2</td>\n",
              "      <td>FNN_neurons=75_dropout=0.25_lr=0.01_bsize=256_...</td>\n",
              "      <td>0.245818</td>\n",
              "      <td>0.252887</td>\n",
              "      <td>0.618765</td>\n",
              "      <td>0.620768</td>\n",
              "      <td>0.54518</td>\n",
              "      <td>115.32</td>\n",
              "      <td>10731</td>\n",
              "    </tr>\n",
              "    <tr>\n",
              "      <th>5</th>\n",
              "      <td>FNN</td>\n",
              "      <td>100</td>\n",
              "      <td>0</td>\n",
              "      <td>0.01</td>\n",
              "      <td>256</td>\n",
              "      <td>2</td>\n",
              "      <td>FNN_neurons=100_dropout=0_lr=0.01_bsize=256_FN...</td>\n",
              "      <td>0.236199</td>\n",
              "      <td>0.255375</td>\n",
              "      <td>0.640555</td>\n",
              "      <td>0.623261</td>\n",
              "      <td>0.566594</td>\n",
              "      <td>75.2754</td>\n",
              "      <td>16806</td>\n",
              "    </tr>\n",
              "    <tr>\n",
              "      <th>1</th>\n",
              "      <td>FNN</td>\n",
              "      <td>75</td>\n",
              "      <td>0</td>\n",
              "      <td>0.01</td>\n",
              "      <td>256</td>\n",
              "      <td>2</td>\n",
              "      <td>FNN_neurons=75_dropout=0_lr=0.01_bsize=256_FNN...</td>\n",
              "      <td>0.234793</td>\n",
              "      <td>0.25745</td>\n",
              "      <td>0.641057</td>\n",
              "      <td>0.609865</td>\n",
              "      <td>0.546328</td>\n",
              "      <td>83.9729</td>\n",
              "      <td>10731</td>\n",
              "    </tr>\n",
              "    <tr>\n",
              "      <th>4</th>\n",
              "      <td>FNN</td>\n",
              "      <td>100</td>\n",
              "      <td>0</td>\n",
              "      <td>0.01</td>\n",
              "      <td>256</td>\n",
              "      <td>1</td>\n",
              "      <td>FNN_neurons=100_dropout=0_lr=0.01_bsize=256_FN...</td>\n",
              "      <td>0.240818</td>\n",
              "      <td>0.259002</td>\n",
              "      <td>0.632092</td>\n",
              "      <td>0.613084</td>\n",
              "      <td>0.532511</td>\n",
              "      <td>110.34</td>\n",
              "      <td>6706</td>\n",
              "    </tr>\n",
              "    <tr>\n",
              "      <th>0</th>\n",
              "      <td>FNN</td>\n",
              "      <td>75</td>\n",
              "      <td>0</td>\n",
              "      <td>0.01</td>\n",
              "      <td>256</td>\n",
              "      <td>1</td>\n",
              "      <td>FNN_neurons=75_dropout=0_lr=0.01_bsize=256_FNN...</td>\n",
              "      <td>0.247726</td>\n",
              "      <td>0.262277</td>\n",
              "      <td>0.622815</td>\n",
              "      <td>0.612876</td>\n",
              "      <td>0.547207</td>\n",
              "      <td>110.863</td>\n",
              "      <td>5031</td>\n",
              "    </tr>\n",
              "    <tr>\n",
              "      <th>6</th>\n",
              "      <td>FNN</td>\n",
              "      <td>100</td>\n",
              "      <td>0.25</td>\n",
              "      <td>0.01</td>\n",
              "      <td>256</td>\n",
              "      <td>1</td>\n",
              "      <td>FNN_neurons=100_dropout=0.25_lr=0.01_bsize=256...</td>\n",
              "      <td>0.27528</td>\n",
              "      <td>0.269409</td>\n",
              "      <td>0.567102</td>\n",
              "      <td>0.578193</td>\n",
              "      <td>0.446803</td>\n",
              "      <td>111.152</td>\n",
              "      <td>6706</td>\n",
              "    </tr>\n",
              "    <tr>\n",
              "      <th>2</th>\n",
              "      <td>FNN</td>\n",
              "      <td>75</td>\n",
              "      <td>0.25</td>\n",
              "      <td>0.01</td>\n",
              "      <td>256</td>\n",
              "      <td>1</td>\n",
              "      <td>FNN_neurons=75_dropout=0.25_lr=0.01_bsize=256_...</td>\n",
              "      <td>0.279844</td>\n",
              "      <td>0.271925</td>\n",
              "      <td>0.557634</td>\n",
              "      <td>0.576116</td>\n",
              "      <td>0.43188</td>\n",
              "      <td>110.161</td>\n",
              "      <td>5031</td>\n",
              "    </tr>\n",
              "  </tbody>\n",
              "</table>\n",
              "</div>"
            ],
            "text/plain": [
              "  ann_type neurons dropout_rate  ... val_f1score elapsed_time trainable_params\n",
              "7      FNN     100         0.25  ...    0.559982      115.494            16806\n",
              "3      FNN      75         0.25  ...     0.54518       115.32            10731\n",
              "5      FNN     100            0  ...    0.566594      75.2754            16806\n",
              "1      FNN      75            0  ...    0.546328      83.9729            10731\n",
              "4      FNN     100            0  ...    0.532511       110.34             6706\n",
              "0      FNN      75            0  ...    0.547207      110.863             5031\n",
              "6      FNN     100         0.25  ...    0.446803      111.152             6706\n",
              "2      FNN      75         0.25  ...     0.43188      110.161             5031\n",
              "\n",
              "[8 rows x 14 columns]"
            ]
          },
          "metadata": {
            "tags": []
          },
          "execution_count": 21
        }
      ]
    },
    {
      "cell_type": "code",
      "metadata": {
        "id": "_9kHXzJVf5AT",
        "outputId": "2e3a0f67-7960-4ec9-fb38-d58f1166e2b0",
        "colab": {
          "base_uri": "https://localhost:8080/",
          "height": 585
        }
      },
      "source": [
        "# code adapted from provided 'UrbanFloodingForecasting.ipynb'\n",
        "\n",
        "f, axes = plt.subplots(2,1,figsize=(6,8))\n",
        "sns.scatterplot(\n",
        "    data=res_df_rnn, x=\"elapsed_time\", y=\"val_loss\", hue=\"ann_type\", style=\"dropout_rate\", size=\"trainable_params\", sizes=(30, 500), ax=axes[0]);\n",
        "axes[0].legend(bbox_to_anchor=(1.05, 1), loc=2, borderaxespad=0.)\n",
        "axes[0].set_title('Comparison of different ANN models')\n",
        "axes[0].set_xlabel('Training time')\n",
        "axes[0].set_ylabel('Validation loss')\n",
        "\n",
        "best_model_ix = res_df_rnn['val_loss'].astype(float).idxmin();\n",
        "axes[1].plot(rs[best_model_ix].history['loss'],label='Training loss');\n",
        "axes[1].plot(rs[best_model_ix].history['val_loss'],label='Validation loss');\n",
        "axes[1].set_title('Training history of best RNN model');\n",
        "axes[1].set_xlabel('Epoch')\n",
        "axes[1].set_ylabel('Loss')\n",
        "f.tight_layout()\n"
      ],
      "execution_count": null,
      "outputs": [
        {
          "output_type": "display_data",
          "data": {
            "image/png": "[encoded data removed]",
            "text/plain": [
              "<Figure size 432x576 with 2 Axes>"
            ]
          },
          "metadata": {
            "tags": [],
            "needs_background": "light"
          }
        }
      ]
    },
    {
      "cell_type": "markdown",
      "metadata": {
        "id": "FXwn1WJNWsGU"
      },
      "source": [
        "# Analysis Question 1\n",
        "After running several different FNN architectures, it appears as if the FNN architecture with 100 neurons, a drop out rate of 0.25, an learning rate of 0.01, batch size of 256, 2 FNN layers, and 16806 trainable parameters performs best.  This model has the lowest validation loss compared to the other models.  This model also has the highest validation accuracy of all models.  The f1 score for this architecture is also relatively strong (0.562465) in comparison to other model f1 scores.\n"
      ]
    },
    {
      "cell_type": "markdown",
      "metadata": {
        "id": "Xe-_xw1EVR3h"
      },
      "source": [
        "#### Part 2. <u> Train multiple Recurrent Neural Networks architectures</u>.\n",
        "\n",
        "You are asked to train several preliminary RNNs architectures (between 6 and 18) to identify a suitable recurrent architecture for *water end-use multiclass classification*. The most promising RNN model will be refined later in the assignment. \n",
        "\n",
        "_Instructions_\n",
        "- Try SimpleRNN as well as LSTM;\n",
        "- Limit the total number of neurons to 100;\n",
        "- Try both Unidirectional as well as Bidirectional RNNs;\n",
        "- Use dropout and early stopping (callback) to reduce overfitting;\n",
        "- Limit training epochs to 200 and use time stopping (callback) to reduce computational time to a max of 5 minutes for each model;\n",
        "- Use the Adam optimizer, and set learning rate to 0.010;\n",
        "- Use a batch size of 256.\n",
        "\n",
        "_Questions_\n",
        "- For each trained architecture, store the *best value for the validation loss*, *number of trainable parameters*, and *training time*;\n",
        "- Select the most promising architecture and motivate why. This RNN will be refined later and compared against the benchmark FNN model you developed in the previous section.\n",
        "- Plot the training/validation history of the selected RNN architecture;\n",
        "\n"
      ]
    },
    {
      "cell_type": "code",
      "metadata": {
        "id": "IbX4EI6PVRwb"
      },
      "source": [
        "#Model\n",
        "def get_trainable_parameters(model):\n",
        "  number_of_weights = [K.count_params(w) for w in model.trainable_weights]\n",
        "  k = 0           #can be looped over more layers\n",
        "  for layer in model.layers:\n",
        "    print('_ _ _ '*10)\n",
        "    print(layer.name)\n",
        "    for weights in layer.trainable_weights:\n",
        "      print(f'{weights.name}, \\nshape={weights.shape} ===> {number_of_weights[k]}')\n",
        "      k+=1\n",
        "  print('_ _ _ '*10)\n",
        "  total = np.array(number_of_weights).sum().astype(int)\n",
        "  print(f'Total = {total}')\n",
        "  return total\n",
        "\n",
        "#Inputs\n",
        "L = 60      # sequence length\n",
        "H = 100     # number of neurons\n",
        "\n",
        "totals = pd.Series(index=['SimpleRNN','LSTM','BiSimpleRNN'], dtype=np.int64)"
      ],
      "execution_count": null,
      "outputs": []
    },
    {
      "cell_type": "code",
      "metadata": {
        "id": "1rW7_lU07zVx"
      },
      "source": [
        "def RNNmodel(n_hidden_neurons=10, cell_type=('LSTM','BiSimpleRNN','BiLSTM'), dropout_rate=0.2):\n",
        "  i = Input(shape=(L,1))\n",
        "  if cell_type == 'SimpleRNN':\n",
        "      x = SimpleRNN(n_hidden_neurons, activation='tanh', return_sequences=False, name='SimpleRNN')(i)\n",
        "  elif cell_type == 'LSTM':\n",
        "      x = LSTM(n_hidden_neurons, activation='tanh', name='LSTM')(i)\n",
        "  elif cell_type == 'BiSimpleRNN':\n",
        "      x = Bidirectional(SimpleRNN(n_hidden_neurons, activation='tanh', return_sequences=False, name='SimpleRNN'))(i)\n",
        "  elif cell_type == 'BiLSTM':\n",
        "      x = Bidirectional(LSTM(n_hidden_neurons, activation='tanh', name='LSTM'))(i)\n",
        "  else:\n",
        "    raise Exception(\"Error: Cell type not recognized! Choose between 'SimpleRNN','LSTM', or 'BiSimpleRNN'.\")    \n",
        "  x = Dropout(dropout_rate)(x)\n",
        "  x = Dense(6, activation='sigmoid', name='Output')(x)\n",
        "  model = Model(i,x)\n",
        "  return model"
      ],
      "execution_count": null,
      "outputs": []
    },
    {
      "cell_type": "code",
      "metadata": {
        "id": "7mEp77sR_8L6",
        "outputId": "f3eb7723-7cd1-433f-bd2e-3e647cecfa93",
        "colab": {
          "base_uri": "https://localhost:8080/",
          "height": 306
        }
      },
      "source": [
        "# create model combinations (using itertools product)\n",
        "ANN_type = ['SimpleRNN','LSTM','BiSimpleRNN','BiLSTM']\n",
        "neurons = [75,100]\n",
        "dropout_rate = [0,0.25]\n",
        "lr = [0.01]\n",
        "batch_size = [256]\n",
        "\n",
        "all_combinations = list(itertools.product(*[ANN_type,neurons,dropout_rate,lr,batch_size]))\n",
        "print(pd.DataFrame(data=all_combinations, columns=['ann_type','neurons','dropout_rate','lr','batch_size']))"
      ],
      "execution_count": null,
      "outputs": [
        {
          "output_type": "stream",
          "text": [
            "       ann_type  neurons  dropout_rate    lr  batch_size\n",
            "0     SimpleRNN       75          0.00  0.01         256\n",
            "1     SimpleRNN       75          0.25  0.01         256\n",
            "2     SimpleRNN      100          0.00  0.01         256\n",
            "3     SimpleRNN      100          0.25  0.01         256\n",
            "4          LSTM       75          0.00  0.01         256\n",
            "5          LSTM       75          0.25  0.01         256\n",
            "6          LSTM      100          0.00  0.01         256\n",
            "7          LSTM      100          0.25  0.01         256\n",
            "8   BiSimpleRNN       75          0.00  0.01         256\n",
            "9   BiSimpleRNN       75          0.25  0.01         256\n",
            "10  BiSimpleRNN      100          0.00  0.01         256\n",
            "11  BiSimpleRNN      100          0.25  0.01         256\n",
            "12       BiLSTM       75          0.00  0.01         256\n",
            "13       BiLSTM       75          0.25  0.01         256\n",
            "14       BiLSTM      100          0.00  0.01         256\n",
            "15       BiLSTM      100          0.25  0.01         256\n"
          ],
          "name": "stdout"
        }
      ]
    },
    {
      "cell_type": "code",
      "metadata": {
        "id": "8igLp50iNz4Z",
        "outputId": "9000a5da-2bbc-4c86-8c85-902e34be9e19",
        "colab": {
          "base_uri": "https://localhost:8080/",
          "height": 1000
        }
      },
      "source": [
        "res_df_rnn = pd.DataFrame(index=np.arange(len(all_combinations)), \n",
        "                      columns=['ann_type','neurons','dropout_rate','lr','batch_size','model_name',\n",
        "                               'tr_loss','val_loss','tr_acc','val_acc','val_f1score','elapsed_time','trainable_params'])\n",
        "\n",
        "rs = [] # histories\n",
        "\n",
        "for i, combination in enumerate(all_combinations):\n",
        "  # extract parameters and create model name  \n",
        "  ANN_type, neurons, dropout_rate, lr, batch_size = combination\n",
        "  model_name = f\"{ANN_type}_neurons={neurons}_dropout={dropout_rate}_lr={lr}_bsize={batch_size}\"\n",
        "  # store in res_df \n",
        "  res_df_rnn.loc[i,['ann_type','neurons', 'dropout_rate','lr','batch_size','model_name']] = combination + (model_name,)\n",
        "\n",
        "  # call backs\n",
        "  earlyStopping = EarlyStopping(monitor='val_loss', patience=50, verbose=1,  min_delta=1e-6, mode='auto')\n",
        "  modelCheckpoint = ModelCheckpoint(f'{working_folder}{model_name}.hdf5', save_best_only=True, monitor='val_loss', mode='auto', save_weights_only=True)\n",
        "  timeStopping = tfa.callbacks.TimeStopping(seconds=5*60, verbose=1)  \n",
        "  callbacks = [earlyStopping, modelCheckpoint, timeStopping]\n",
        "\n",
        "  # create model\n",
        "  model = RNNmodel(n_hidden_neurons = neurons,cell_type=ANN_type, dropout_rate = dropout_rate)\n",
        "\n",
        "  # compile\n",
        "  model.compile(loss='binary_crossentropy',optimizer=Adam(lr=lr), metrics=['accuracy'])\n",
        "\n",
        "  # echo screen\n",
        "  print(f'Training {model_name}, #{i+1} of {len(all_combinations)}')\n",
        "  # train\n",
        "  start_time = time.time()\n",
        "  r = model.fit(Xtra, Ytra,epochs=200,validation_data = (Xval, Yval), callbacks=callbacks, verbose=0, batch_size=batch_size)\n",
        "  # append history\n",
        "  rs.append(r)\n",
        "  # store results\n",
        "  res_df_rnn.loc[i,'elapsed_time'] = time.time() - start_time\n",
        "  best_ix = np.array(r.history['val_loss']).argmin()\n",
        "  res_df_rnn.loc[i,['tr_loss','val_loss','tr_acc','val_acc']] = [r.history['loss'][best_ix],r.history['val_loss'][best_ix],\n",
        "                                                                 r.history['accuracy'][best_ix],r.history['val_accuracy'][best_ix]]     \n",
        "  res_df_rnn.loc[i,'trainable_params'] = get_trainable_params(model)\n",
        "  # load weights and compute f1_score\n",
        "  model.load_weights(f'{working_folder}{model_name}.hdf5')\n",
        "  Yval_pred = (model.predict(Xval)>0.5).astype(int)\n",
        "  res_df_rnn.loc[i,['val_f1score']] = f1_score(Yval,Yval_pred, average = 'weighted') #'weighted' for average because we have label imbalance (https://scikit-learn.org/stable/modules/generated/sklearn.metrics.f1_score.html)\n",
        "  print(res_df_rnn.loc[i,['elapsed_time','val_loss','val_acc','val_f1score']])"
      ],
      "execution_count": null,
      "outputs": [
        {
          "output_type": "stream",
          "text": [
            "Training SimpleRNN_neurons=75_dropout=0_lr=0.01_bsize=256, #1 of 16\n",
            "Timed stopping at epoch 39 after training for 0:05:00\n",
            "elapsed_time     301.399\n",
            "val_loss        0.440126\n",
            "val_acc         0.251506\n",
            "val_f1score            0\n",
            "Name: 0, dtype: object\n",
            "Training SimpleRNN_neurons=75_dropout=0.25_lr=0.01_bsize=256, #2 of 16\n",
            "Timed stopping at epoch 40 after training for 0:05:00\n",
            "elapsed_time     306.541\n",
            "val_loss        0.441229\n",
            "val_acc         0.251506\n",
            "val_f1score            0\n",
            "Name: 1, dtype: object\n",
            "Training SimpleRNN_neurons=100_dropout=0_lr=0.01_bsize=256, #3 of 16\n",
            "Timed stopping at epoch 40 after training for 0:05:00\n",
            "elapsed_time     306.359\n",
            "val_loss        0.440816\n",
            "val_acc         0.251506\n",
            "val_f1score            0\n",
            "Name: 2, dtype: object\n",
            "Training SimpleRNN_neurons=100_dropout=0.25_lr=0.01_bsize=256, #4 of 16\n",
            "Timed stopping at epoch 40 after training for 0:05:00\n",
            "elapsed_time     306.914\n",
            "val_loss        0.441572\n",
            "val_acc         0.251506\n",
            "val_f1score            0\n",
            "Name: 3, dtype: object\n",
            "Training LSTM_neurons=75_dropout=0_lr=0.01_bsize=256, #5 of 16\n",
            "Epoch 00103: early stopping\n",
            "elapsed_time     143.547\n",
            "val_loss        0.204589\n",
            "val_acc         0.706231\n",
            "val_f1score     0.691249\n",
            "Name: 4, dtype: object\n",
            "Training LSTM_neurons=75_dropout=0.25_lr=0.01_bsize=256, #6 of 16\n",
            "Epoch 00053: early stopping\n",
            "elapsed_time       71.1607\n",
            "val_loss          0.377258\n",
            "val_acc           0.380685\n",
            "val_f1score     0.00975036\n",
            "Name: 5, dtype: object\n",
            "Training LSTM_neurons=100_dropout=0_lr=0.01_bsize=256, #7 of 16\n",
            "Epoch 00116: early stopping\n",
            "elapsed_time     176.633\n",
            "val_loss        0.198444\n",
            "val_acc         0.718588\n",
            "val_f1score      0.70793\n",
            "Name: 6, dtype: object\n",
            "Training LSTM_neurons=100_dropout=0.25_lr=0.01_bsize=256, #8 of 16\n",
            "Epoch 00121: early stopping\n",
            "elapsed_time     183.666\n",
            "val_loss        0.203122\n",
            "val_acc         0.709346\n",
            "val_f1score     0.690013\n",
            "Name: 7, dtype: object\n",
            "Training BiSimpleRNN_neurons=75_dropout=0_lr=0.01_bsize=256, #9 of 16\n",
            "Timed stopping at epoch 20 after training for 0:05:00\n",
            "elapsed_time     305.854\n",
            "val_loss        0.439142\n",
            "val_acc         0.251506\n",
            "val_f1score            0\n",
            "Name: 8, dtype: object\n",
            "Training BiSimpleRNN_neurons=75_dropout=0.25_lr=0.01_bsize=256, #10 of 16\n",
            "Timed stopping at epoch 21 after training for 0:05:00\n",
            "elapsed_time     312.275\n",
            "val_loss          0.4423\n",
            "val_acc         0.251506\n",
            "val_f1score            0\n",
            "Name: 9, dtype: object\n",
            "Training BiSimpleRNN_neurons=100_dropout=0_lr=0.01_bsize=256, #11 of 16\n",
            "Timed stopping at epoch 21 after training for 0:05:00\n",
            "elapsed_time       309.741\n",
            "val_loss          0.439392\n",
            "val_acc           0.251506\n",
            "val_f1score     0.00288968\n",
            "Name: 10, dtype: object\n",
            "Training BiSimpleRNN_neurons=100_dropout=0.25_lr=0.01_bsize=256, #12 of 16\n",
            "Timed stopping at epoch 20 after training for 0:05:00\n",
            "elapsed_time     302.063\n",
            "val_loss        0.443418\n",
            "val_acc         0.251506\n",
            "val_f1score            0\n",
            "Name: 11, dtype: object\n",
            "Training BiLSTM_neurons=75_dropout=0_lr=0.01_bsize=256, #13 of 16\n",
            "Epoch 00108: early stopping\n",
            "elapsed_time     246.803\n",
            "val_loss        0.212022\n",
            "val_acc          0.69865\n",
            "val_f1score     0.682662\n",
            "Name: 12, dtype: object\n",
            "Training BiLSTM_neurons=75_dropout=0.25_lr=0.01_bsize=256, #14 of 16\n",
            "Timed stopping at epoch 131 after training for 0:05:00\n",
            "elapsed_time     300.431\n",
            "val_loss        0.191456\n",
            "val_acc         0.724299\n",
            "val_f1score     0.716687\n",
            "Name: 13, dtype: object\n",
            "Training BiLSTM_neurons=100_dropout=0_lr=0.01_bsize=256, #15 of 16\n",
            "Timed stopping at epoch 111 after training for 0:05:00\n",
            "elapsed_time     300.658\n",
            "val_loss        0.201219\n",
            "val_acc         0.718899\n",
            "val_f1score     0.715512\n",
            "Name: 14, dtype: object\n",
            "Training BiLSTM_neurons=100_dropout=0.25_lr=0.01_bsize=256, #16 of 16\n",
            "Timed stopping at epoch 111 after training for 0:05:00\n",
            "elapsed_time     300.975\n",
            "val_loss        0.200092\n",
            "val_acc         0.715472\n",
            "val_f1score     0.698829\n",
            "Name: 15, dtype: object\n"
          ],
          "name": "stdout"
        }
      ]
    },
    {
      "cell_type": "code",
      "metadata": {
        "id": "JAFcmWQyaYzo"
      },
      "source": [
        "# save df of results\n",
        "res_df_rnn.to_csv(working_folder + 'Model_rnn_results.csv')"
      ],
      "execution_count": null,
      "outputs": []
    },
    {
      "cell_type": "code",
      "metadata": {
        "id": "JQy2XC4YaZve",
        "outputId": "77886552-ec4f-417b-c599-a93dee60e319",
        "colab": {
          "base_uri": "https://localhost:8080/",
          "height": 545
        }
      },
      "source": [
        "#Compare the results\n",
        "res_df_rnn.sort_values(by='val_loss')"
      ],
      "execution_count": null,
      "outputs": [
        {
          "output_type": "execute_result",
          "data": {
            "text/html": [
              "<div>\n",
              "<style scoped>\n",
              "    .dataframe tbody tr th:only-of-type {\n",
              "        vertical-align: middle;\n",
              "    }\n",
              "\n",
              "    .dataframe tbody tr th {\n",
              "        vertical-align: top;\n",
              "    }\n",
              "\n",
              "    .dataframe thead th {\n",
              "        text-align: right;\n",
              "    }\n",
              "</style>\n",
              "<table border=\"1\" class=\"dataframe\">\n",
              "  <thead>\n",
              "    <tr style=\"text-align: right;\">\n",
              "      <th></th>\n",
              "      <th>ann_type</th>\n",
              "      <th>neurons</th>\n",
              "      <th>dropout_rate</th>\n",
              "      <th>lr</th>\n",
              "      <th>batch_size</th>\n",
              "      <th>model_name</th>\n",
              "      <th>tr_loss</th>\n",
              "      <th>val_loss</th>\n",
              "      <th>tr_acc</th>\n",
              "      <th>val_acc</th>\n",
              "      <th>val_f1score</th>\n",
              "      <th>elapsed_time</th>\n",
              "      <th>trainable_params</th>\n",
              "    </tr>\n",
              "  </thead>\n",
              "  <tbody>\n",
              "    <tr>\n",
              "      <th>13</th>\n",
              "      <td>BiLSTM</td>\n",
              "      <td>75</td>\n",
              "      <td>0.25</td>\n",
              "      <td>0.01</td>\n",
              "      <td>256</td>\n",
              "      <td>BiLSTM_neurons=75_dropout=0.25_lr=0.01_bsize=256</td>\n",
              "      <td>0.18858</td>\n",
              "      <td>0.191456</td>\n",
              "      <td>0.733739</td>\n",
              "      <td>0.724299</td>\n",
              "      <td>0.716687</td>\n",
              "      <td>300.431</td>\n",
              "      <td>47106</td>\n",
              "    </tr>\n",
              "    <tr>\n",
              "      <th>6</th>\n",
              "      <td>LSTM</td>\n",
              "      <td>100</td>\n",
              "      <td>0</td>\n",
              "      <td>0.01</td>\n",
              "      <td>256</td>\n",
              "      <td>LSTM_neurons=100_dropout=0_lr=0.01_bsize=256</td>\n",
              "      <td>0.192965</td>\n",
              "      <td>0.198444</td>\n",
              "      <td>0.723199</td>\n",
              "      <td>0.718588</td>\n",
              "      <td>0.70793</td>\n",
              "      <td>176.633</td>\n",
              "      <td>41406</td>\n",
              "    </tr>\n",
              "    <tr>\n",
              "      <th>15</th>\n",
              "      <td>BiLSTM</td>\n",
              "      <td>100</td>\n",
              "      <td>0.25</td>\n",
              "      <td>0.01</td>\n",
              "      <td>256</td>\n",
              "      <td>BiLSTM_neurons=100_dropout=0.25_lr=0.01_bsize=256</td>\n",
              "      <td>0.19761</td>\n",
              "      <td>0.200092</td>\n",
              "      <td>0.712555</td>\n",
              "      <td>0.715472</td>\n",
              "      <td>0.698829</td>\n",
              "      <td>300.975</td>\n",
              "      <td>82806</td>\n",
              "    </tr>\n",
              "    <tr>\n",
              "      <th>14</th>\n",
              "      <td>BiLSTM</td>\n",
              "      <td>100</td>\n",
              "      <td>0</td>\n",
              "      <td>0.01</td>\n",
              "      <td>256</td>\n",
              "      <td>BiLSTM_neurons=100_dropout=0_lr=0.01_bsize=256</td>\n",
              "      <td>0.186175</td>\n",
              "      <td>0.201219</td>\n",
              "      <td>0.733757</td>\n",
              "      <td>0.718899</td>\n",
              "      <td>0.715512</td>\n",
              "      <td>300.658</td>\n",
              "      <td>82806</td>\n",
              "    </tr>\n",
              "    <tr>\n",
              "      <th>7</th>\n",
              "      <td>LSTM</td>\n",
              "      <td>100</td>\n",
              "      <td>0.25</td>\n",
              "      <td>0.01</td>\n",
              "      <td>256</td>\n",
              "      <td>LSTM_neurons=100_dropout=0.25_lr=0.01_bsize=256</td>\n",
              "      <td>0.201847</td>\n",
              "      <td>0.203122</td>\n",
              "      <td>0.707622</td>\n",
              "      <td>0.709346</td>\n",
              "      <td>0.690013</td>\n",
              "      <td>183.666</td>\n",
              "      <td>41406</td>\n",
              "    </tr>\n",
              "    <tr>\n",
              "      <th>4</th>\n",
              "      <td>LSTM</td>\n",
              "      <td>75</td>\n",
              "      <td>0</td>\n",
              "      <td>0.01</td>\n",
              "      <td>256</td>\n",
              "      <td>LSTM_neurons=75_dropout=0_lr=0.01_bsize=256</td>\n",
              "      <td>0.196695</td>\n",
              "      <td>0.204589</td>\n",
              "      <td>0.715722</td>\n",
              "      <td>0.706231</td>\n",
              "      <td>0.691249</td>\n",
              "      <td>143.547</td>\n",
              "      <td>23556</td>\n",
              "    </tr>\n",
              "    <tr>\n",
              "      <th>12</th>\n",
              "      <td>BiLSTM</td>\n",
              "      <td>75</td>\n",
              "      <td>0</td>\n",
              "      <td>0.01</td>\n",
              "      <td>256</td>\n",
              "      <td>BiLSTM_neurons=75_dropout=0_lr=0.01_bsize=256</td>\n",
              "      <td>0.208753</td>\n",
              "      <td>0.212022</td>\n",
              "      <td>0.697982</td>\n",
              "      <td>0.69865</td>\n",
              "      <td>0.682662</td>\n",
              "      <td>246.803</td>\n",
              "      <td>47106</td>\n",
              "    </tr>\n",
              "    <tr>\n",
              "      <th>5</th>\n",
              "      <td>LSTM</td>\n",
              "      <td>75</td>\n",
              "      <td>0.25</td>\n",
              "      <td>0.01</td>\n",
              "      <td>256</td>\n",
              "      <td>LSTM_neurons=75_dropout=0.25_lr=0.01_bsize=256</td>\n",
              "      <td>0.43606</td>\n",
              "      <td>0.377258</td>\n",
              "      <td>0.268787</td>\n",
              "      <td>0.380685</td>\n",
              "      <td>0.00975036</td>\n",
              "      <td>71.1607</td>\n",
              "      <td>23556</td>\n",
              "    </tr>\n",
              "    <tr>\n",
              "      <th>8</th>\n",
              "      <td>BiSimpleRNN</td>\n",
              "      <td>75</td>\n",
              "      <td>0</td>\n",
              "      <td>0.01</td>\n",
              "      <td>256</td>\n",
              "      <td>BiSimpleRNN_neurons=75_dropout=0_lr=0.01_bsize...</td>\n",
              "      <td>0.444212</td>\n",
              "      <td>0.439142</td>\n",
              "      <td>0.229707</td>\n",
              "      <td>0.251506</td>\n",
              "      <td>0</td>\n",
              "      <td>305.854</td>\n",
              "      <td>12456</td>\n",
              "    </tr>\n",
              "    <tr>\n",
              "      <th>10</th>\n",
              "      <td>BiSimpleRNN</td>\n",
              "      <td>100</td>\n",
              "      <td>0</td>\n",
              "      <td>0.01</td>\n",
              "      <td>256</td>\n",
              "      <td>BiSimpleRNN_neurons=100_dropout=0_lr=0.01_bsiz...</td>\n",
              "      <td>0.444576</td>\n",
              "      <td>0.439392</td>\n",
              "      <td>0.232459</td>\n",
              "      <td>0.251506</td>\n",
              "      <td>0.00288968</td>\n",
              "      <td>309.741</td>\n",
              "      <td>21606</td>\n",
              "    </tr>\n",
              "    <tr>\n",
              "      <th>0</th>\n",
              "      <td>SimpleRNN</td>\n",
              "      <td>75</td>\n",
              "      <td>0</td>\n",
              "      <td>0.01</td>\n",
              "      <td>256</td>\n",
              "      <td>SimpleRNN_neurons=75_dropout=0_lr=0.01_bsize=256</td>\n",
              "      <td>0.443423</td>\n",
              "      <td>0.440126</td>\n",
              "      <td>0.241164</td>\n",
              "      <td>0.251506</td>\n",
              "      <td>0</td>\n",
              "      <td>301.399</td>\n",
              "      <td>6231</td>\n",
              "    </tr>\n",
              "    <tr>\n",
              "      <th>2</th>\n",
              "      <td>SimpleRNN</td>\n",
              "      <td>100</td>\n",
              "      <td>0</td>\n",
              "      <td>0.01</td>\n",
              "      <td>256</td>\n",
              "      <td>SimpleRNN_neurons=100_dropout=0_lr=0.01_bsize=256</td>\n",
              "      <td>0.444773</td>\n",
              "      <td>0.440816</td>\n",
              "      <td>0.240368</td>\n",
              "      <td>0.251506</td>\n",
              "      <td>0</td>\n",
              "      <td>306.359</td>\n",
              "      <td>10806</td>\n",
              "    </tr>\n",
              "    <tr>\n",
              "      <th>1</th>\n",
              "      <td>SimpleRNN</td>\n",
              "      <td>75</td>\n",
              "      <td>0.25</td>\n",
              "      <td>0.01</td>\n",
              "      <td>256</td>\n",
              "      <td>SimpleRNN_neurons=75_dropout=0.25_lr=0.01_bsiz...</td>\n",
              "      <td>0.444124</td>\n",
              "      <td>0.441229</td>\n",
              "      <td>0.244107</td>\n",
              "      <td>0.251506</td>\n",
              "      <td>0</td>\n",
              "      <td>306.541</td>\n",
              "      <td>6231</td>\n",
              "    </tr>\n",
              "    <tr>\n",
              "      <th>3</th>\n",
              "      <td>SimpleRNN</td>\n",
              "      <td>100</td>\n",
              "      <td>0.25</td>\n",
              "      <td>0.01</td>\n",
              "      <td>256</td>\n",
              "      <td>SimpleRNN_neurons=100_dropout=0.25_lr=0.01_bsi...</td>\n",
              "      <td>0.445509</td>\n",
              "      <td>0.441572</td>\n",
              "      <td>0.241026</td>\n",
              "      <td>0.251506</td>\n",
              "      <td>0</td>\n",
              "      <td>306.914</td>\n",
              "      <td>10806</td>\n",
              "    </tr>\n",
              "    <tr>\n",
              "      <th>9</th>\n",
              "      <td>BiSimpleRNN</td>\n",
              "      <td>75</td>\n",
              "      <td>0.25</td>\n",
              "      <td>0.01</td>\n",
              "      <td>256</td>\n",
              "      <td>BiSimpleRNN_neurons=75_dropout=0.25_lr=0.01_bs...</td>\n",
              "      <td>0.447236</td>\n",
              "      <td>0.4423</td>\n",
              "      <td>0.230088</td>\n",
              "      <td>0.251506</td>\n",
              "      <td>0</td>\n",
              "      <td>312.275</td>\n",
              "      <td>12456</td>\n",
              "    </tr>\n",
              "    <tr>\n",
              "      <th>11</th>\n",
              "      <td>BiSimpleRNN</td>\n",
              "      <td>100</td>\n",
              "      <td>0.25</td>\n",
              "      <td>0.01</td>\n",
              "      <td>256</td>\n",
              "      <td>BiSimpleRNN_neurons=100_dropout=0.25_lr=0.01_b...</td>\n",
              "      <td>0.44832</td>\n",
              "      <td>0.443418</td>\n",
              "      <td>0.229188</td>\n",
              "      <td>0.251506</td>\n",
              "      <td>0</td>\n",
              "      <td>302.063</td>\n",
              "      <td>21606</td>\n",
              "    </tr>\n",
              "  </tbody>\n",
              "</table>\n",
              "</div>"
            ],
            "text/plain": [
              "       ann_type neurons dropout_rate  ... val_f1score elapsed_time trainable_params\n",
              "13       BiLSTM      75         0.25  ...    0.716687      300.431            47106\n",
              "6          LSTM     100            0  ...     0.70793      176.633            41406\n",
              "15       BiLSTM     100         0.25  ...    0.698829      300.975            82806\n",
              "14       BiLSTM     100            0  ...    0.715512      300.658            82806\n",
              "7          LSTM     100         0.25  ...    0.690013      183.666            41406\n",
              "4          LSTM      75            0  ...    0.691249      143.547            23556\n",
              "12       BiLSTM      75            0  ...    0.682662      246.803            47106\n",
              "5          LSTM      75         0.25  ...  0.00975036      71.1607            23556\n",
              "8   BiSimpleRNN      75            0  ...           0      305.854            12456\n",
              "10  BiSimpleRNN     100            0  ...  0.00288968      309.741            21606\n",
              "0     SimpleRNN      75            0  ...           0      301.399             6231\n",
              "2     SimpleRNN     100            0  ...           0      306.359            10806\n",
              "1     SimpleRNN      75         0.25  ...           0      306.541             6231\n",
              "3     SimpleRNN     100         0.25  ...           0      306.914            10806\n",
              "9   BiSimpleRNN      75         0.25  ...           0      312.275            12456\n",
              "11  BiSimpleRNN     100         0.25  ...           0      302.063            21606\n",
              "\n",
              "[16 rows x 13 columns]"
            ]
          },
          "metadata": {
            "tags": []
          },
          "execution_count": 18
        }
      ]
    },
    {
      "cell_type": "code",
      "metadata": {
        "id": "psYDpQZSashG",
        "outputId": "ba6f0064-91e6-4331-f0d1-ba53367caa44",
        "colab": {
          "base_uri": "https://localhost:8080/",
          "height": 585
        }
      },
      "source": [
        "#Plotting results\n",
        "f, axes = plt.subplots(2,1,figsize=(6,8))\n",
        "sns.scatterplot(\n",
        "    data=res_df_rnn, x=\"elapsed_time\", y=\"val_loss\", hue=\"ann_type\", style=\"dropout_rate\", size=\"trainable_params\", sizes=(30, 500), ax=axes[0]);\n",
        "axes[0].legend(bbox_to_anchor=(1.05, 1), loc=2, borderaxespad=0.)\n",
        "axes[0].set_title('Comparison of different ANN models')\n",
        "axes[0].set_xlabel('Training time')\n",
        "axes[0].set_ylabel('Validation loss')\n",
        "\n",
        "best_model_ix = res_df_rnn['val_loss'].astype(float).idxmin();\n",
        "axes[1].plot(rs[best_model_ix].history['loss'],label='Training loss');\n",
        "axes[1].plot(rs[best_model_ix].history['val_loss'],label='Validation loss');\n",
        "axes[1].set_title('Training history of best RNN model');\n",
        "axes[1].set_xlabel('Epoch')\n",
        "axes[1].set_ylabel('Loss')\n",
        "f.tight_layout()"
      ],
      "execution_count": null,
      "outputs": [
        {
          "output_type": "display_data",
          "data": {
            "image/png": "[encoded data removed]",
            "text/plain": [
              "<Figure size 432x576 with 2 Axes>"
            ]
          },
          "metadata": {
            "tags": [],
            "needs_background": "light"
          }
        }
      ]
    },
    {
      "cell_type": "markdown",
      "metadata": {
        "id": "qizbwkaflesG"
      },
      "source": [
        "# Analysis question 2\n",
        "After running different architectures, it became clear that the bidirectional architecture with LSTM has the lowest validation loss compared to other architectures. Besides, the accuracy and the f1 are the highest of all architectures. Moreover, this RNN structure has 60% less trainable parameters compared to the FNN. This is also what we expected. \n"
      ]
    },
    {
      "cell_type": "markdown",
      "metadata": {
        "id": "jZpc8xN-389g"
      },
      "source": [
        "#### Part 3. <u> Refine and compare the best FNN and RNN</u>.\n",
        "\n",
        "You are asked to refine the most promising architectures of Part 1 and Part 2 to develop a more accurate *water end-use multiclass classification* model. The classification performance of the best of the two refined models will be assessed in the last part of the assignment. \n",
        "\n",
        "_Instructions_\n",
        "- Retrain the best FNN and best RNN of Part 1 and Part 2;\n",
        "- Use _dropout_ and the _early stopping_ callback to reduce overfitting;\n",
        "- Use _ModelCheckpoint_ callback to save the best model for each architecture (weights only);\n",
        "- Use _ReduceLRonPlateau_ or _LearningRateScheduler_ callbacks to reduce the learning rate dynamically as the training progresses;\n",
        "- Limit training epochs to 1000 and use the TimeStopping callback to reduce computational time to a max of 15 minutes for each model;\n",
        "- Use the _Adam_ optimizer, and set the _learning rate_ to 0.005;\n",
        "- Use a _batch size_ of 256.\n",
        "\n",
        "_Questions_\n",
        "- For each trained architecture, store the *best value for the validation loss* and *training time*;\n",
        "- Plot the training/validation history of both models, including the evolution of the learning rate;\n",
        "- Select the best model based on performances, and explain why.\n",
        "\n"
      ]
    },
    {
      "cell_type": "code",
      "metadata": {
        "id": "SENSOLCi6flE"
      },
      "source": [
        "# The best FNN model as tested in question 1:\n",
        "# 100 neurons,\t0.25 dropout,\t0.01 LR,\t256 batch size, 2 layers, got approx. 62% validation accuracy\n",
        "\n",
        "# function for FNN model creation\n",
        "def RefFNNmodel(dropout_rate=0.):\n",
        "  i = Input(shape=(L,))      \n",
        "  x = Dense(100, activation='sigmoid', name='Hidden_layer_1')(i)\n",
        "  x = Dense(100, activation='sigmoid', name='Hidden_layer_2')(x)\n",
        "  x = Dropout(dropout_rate)(x)\n",
        "  x = Dense(6, activation='sigmoid', name='Output')(x)  \n",
        "  model = Model(i,x)\n",
        "  return model\n",
        "\n",
        "# The best RNN model as tested in question 2:\n",
        "# Bi-direcitonal LSTM, 75 neurons,\t0.25 dropout,\t0.01 LR,\t256 batch size, got approx. 72% validation accuracy\n",
        "\n",
        "def RefRNNmodel(dropout_rate=0.25):\n",
        "  i = Input(shape=(L,1))\n",
        "  x = Bidirectional(LSTM(75, activation='tanh', return_sequences=False, name='BiLSTM'))(i)\n",
        "  x = Dropout(dropout_rate)(x)\n",
        "  x = Dense(6, activation='sigmoid', name='Output')(x)\n",
        "  model = Model(i,x)\n",
        "  return model"
      ],
      "execution_count": null,
      "outputs": []
    },
    {
      "cell_type": "code",
      "metadata": {
        "id": "SvClPTqM2IlP",
        "outputId": "1e106544-88e6-4701-ce6e-42d5cbc61a18",
        "colab": {
          "base_uri": "https://localhost:8080/",
          "height": 1000
        }
      },
      "source": [
        "dropouts = [0, 0.1, 0.2, 0.3]\n",
        "reduceLR = [0.75, 0.5, 0.25, 0.1] # reduce the learning rate by up to a factor 10, as noted on https://www.tensorflow.org/api_docs/python/tf/keras/callbacks/ReduceLROnPlateau\n",
        "\n",
        "all_combinations = list(itertools.product(*[dropouts, reduceLR]))\n",
        "\n",
        "q3_df = pd.DataFrame(index=np.arange(len(all_combinations)), columns=['dropout', 'lr_factor', 'model_name', 'tr_loss','val_loss','tr_acc','val_acc','val_f1score','elapsed_time','trainable_params'])\n",
        "\n",
        "rs_fnn = [] # histories\n",
        "\n",
        "try:\n",
        "  for i, combination in enumerate(all_combinations):\n",
        "    dropout, lr_factor = combination\n",
        "    model_name = f\"FNN_dropout={dropout}_lr_factor={lr_factor}\"\n",
        "\n",
        "    q3_df.loc[i,['dropout','lr_factor', 'model_name']] = combination + (model_name,)\n",
        "\n",
        "    # set up callbacks\n",
        "    earlyStopping = EarlyStopping(monitor='val_loss', patience=50, verbose=1,  min_delta=1e-6, mode='auto')\n",
        "    modelCheckpoint = ModelCheckpoint(f'{working_folder}{model_name}.hdf5', save_best_only=True, monitor='val_loss', mode='auto', save_weights_only=True)\n",
        "    timeStopping = tfa.callbacks.TimeStopping(seconds=15*60, verbose=1) # timeout is 15 minutes\n",
        "    reduceLROnPlateau = ReduceLROnPlateau(monitor='val_loss', factor=lr_factor, patience=5, min_lr=0.0005) # reduce by factor, up to the minimum, which is 1/10th of the original\n",
        "    callbacks = [earlyStopping, modelCheckpoint, timeStopping, reduceLROnPlateau]\n",
        "\n",
        "    # define model\n",
        "    model = RefFNNmodel(dropout_rate=dropout)\n",
        "\n",
        "    # compile\n",
        "    model.compile(loss='binary_crossentropy',optimizer=Adam(lr=0.005), metrics=['accuracy'])\n",
        "\n",
        "    # start training!\n",
        "    print(f'Training {model_name}, #{i+1} of {len(all_combinations)}')\n",
        "\n",
        "    start_time = time.time()\n",
        "    r = model.fit(Xtra, Ytra,epochs=1000,validation_data = (Xval, Yval), callbacks=callbacks, verbose=0, batch_size=256)\n",
        "    rs_fnn.append(r)\n",
        "\n",
        "    # store results\n",
        "    q3_df.loc[i, 'elapsed_time'] = time.time() - start_time\n",
        "    best_ix = np.array(r.history['val_loss']).argmin()\n",
        "    q3_df.loc[i,['tr_loss','val_loss','tr_acc','val_acc']] = [r.history['loss'][best_ix],r.history['val_loss'][best_ix], r.history['accuracy'][best_ix],r.history['val_accuracy'][best_ix]]\n",
        "    q3_df.loc[i,'trainable_params'] = get_trainable_params(model)\n",
        "\n",
        "    # load weights and compute f1_score\n",
        "    model.load_weights(f'{working_folder}{model_name}.hdf5')\n",
        "    Yval_pred = (model.predict(Xval)>0.5).astype(int)\n",
        "    q3_df.loc[i,['val_f1score']] = f1_score(Yval,Yval_pred, average = 'weighted') #'weighted' for average because we have label imbalance (https://scikit-learn.org/stable/modules/generated/sklearn.metrics.f1_score.html)\n",
        "    print(q3_df.loc[i,['elapsed_time','val_loss','val_acc','val_f1score']])\n",
        "\n",
        "  q3_df.to_csv(working_folder + 'Q3_fnn_results.csv')\n",
        "  print(q3_df.sort_values(by='val_loss'))\n",
        "except KeyboardInterrupt:\n",
        "  print('User cancelled training!')"
      ],
      "execution_count": null,
      "outputs": [
        {
          "output_type": "stream",
          "text": [
            "Training FNN_dropout=0_lr_factor=0.75, #1 of 16\n",
            "Epoch 00277: early stopping\n",
            "elapsed_time     148.356\n",
            "val_loss        0.251943\n",
            "val_acc         0.627414\n",
            "val_f1score     0.570456\n",
            "Name: 0, dtype: object\n",
            "Training FNN_dropout=0_lr_factor=0.5, #2 of 16\n",
            "Epoch 00619: early stopping\n",
            "elapsed_time     330.937\n",
            "val_loss        0.255411\n",
            "val_acc         0.620976\n",
            "val_f1score     0.571015\n",
            "Name: 1, dtype: object\n",
            "Training FNN_dropout=0_lr_factor=0.25, #3 of 16\n",
            "Epoch 00657: early stopping\n",
            "elapsed_time     351.073\n",
            "val_loss        0.252428\n",
            "val_acc         0.630426\n",
            "val_f1score      0.57815\n",
            "Name: 2, dtype: object\n",
            "Training FNN_dropout=0_lr_factor=0.1, #4 of 16\n",
            "Epoch 00720: early stopping\n",
            "elapsed_time      384.79\n",
            "val_loss        0.252151\n",
            "val_acc          0.63188\n",
            "val_f1score     0.578034\n",
            "Name: 3, dtype: object\n",
            "Training FNN_dropout=0.1_lr_factor=0.75, #5 of 16\n",
            "Epoch 00304: early stopping\n",
            "elapsed_time     163.642\n",
            "val_loss        0.255708\n",
            "val_acc          0.62648\n",
            "val_f1score     0.546263\n",
            "Name: 4, dtype: object\n",
            "Training FNN_dropout=0.1_lr_factor=0.5, #6 of 16\n",
            "Epoch 00805: early stopping\n",
            "elapsed_time     431.596\n",
            "val_loss        0.252946\n",
            "val_acc         0.634372\n",
            "val_f1score     0.552948\n",
            "Name: 5, dtype: object\n",
            "Training FNN_dropout=0.1_lr_factor=0.25, #7 of 16\n",
            "Epoch 00811: early stopping\n",
            "elapsed_time     435.832\n",
            "val_loss        0.256805\n",
            "val_acc         0.618069\n",
            "val_f1score     0.538666\n",
            "Name: 6, dtype: object\n",
            "Training FNN_dropout=0.1_lr_factor=0.1, #8 of 16\n",
            "elapsed_time     544.354\n",
            "val_loss        0.251502\n",
            "val_acc         0.632087\n",
            "val_f1score     0.553187\n",
            "Name: 7, dtype: object\n",
            "Training FNN_dropout=0.2_lr_factor=0.75, #9 of 16\n",
            "Epoch 00580: early stopping\n",
            "elapsed_time     313.877\n",
            "val_loss        0.255259\n",
            "val_acc         0.622015\n",
            "val_f1score     0.520781\n",
            "Name: 8, dtype: object\n",
            "Training FNN_dropout=0.2_lr_factor=0.5, #10 of 16\n",
            "Epoch 00970: early stopping\n",
            "elapsed_time     525.073\n",
            "val_loss        0.256373\n",
            "val_acc         0.621911\n",
            "val_f1score     0.539567\n",
            "Name: 9, dtype: object\n",
            "Training FNN_dropout=0.2_lr_factor=0.25, #11 of 16\n",
            "Epoch 00739: early stopping\n",
            "elapsed_time     398.341\n",
            "val_loss        0.258575\n",
            "val_acc         0.615992\n",
            "val_f1score     0.517541\n",
            "Name: 10, dtype: object\n",
            "Training FNN_dropout=0.2_lr_factor=0.1, #12 of 16\n",
            "Epoch 00792: early stopping\n",
            "elapsed_time     432.861\n",
            "val_loss        0.256516\n",
            "val_acc         0.624714\n",
            "val_f1score       0.5336\n",
            "Name: 11, dtype: object\n",
            "Training FNN_dropout=0.3_lr_factor=0.75, #13 of 16\n",
            "Epoch 00990: early stopping\n",
            "elapsed_time     536.408\n",
            "val_loss        0.257534\n",
            "val_acc         0.615265\n",
            "val_f1score     0.512739\n",
            "Name: 12, dtype: object\n",
            "Training FNN_dropout=0.3_lr_factor=0.5, #14 of 16\n",
            "elapsed_time     540.017\n",
            "val_loss        0.256521\n",
            "val_acc         0.621495\n",
            "val_f1score     0.527155\n",
            "Name: 13, dtype: object\n",
            "Training FNN_dropout=0.3_lr_factor=0.25, #15 of 16\n",
            "Epoch 00840: early stopping\n",
            "elapsed_time     460.467\n",
            "val_loss        0.256581\n",
            "val_acc         0.617549\n",
            "val_f1score     0.529541\n",
            "Name: 14, dtype: object\n",
            "Training FNN_dropout=0.3_lr_factor=0.1, #16 of 16\n",
            "elapsed_time     542.507\n",
            "val_loss        0.260294\n",
            "val_acc         0.611111\n",
            "val_f1score     0.507564\n",
            "Name: 15, dtype: object\n",
            "   dropout lr_factor  ... elapsed_time trainable_params\n",
            "7      0.1       0.1  ...      544.354            16806\n",
            "0        0      0.75  ...      148.356            16806\n",
            "3        0       0.1  ...       384.79            16806\n",
            "2        0      0.25  ...      351.073            16806\n",
            "5      0.1       0.5  ...      431.596            16806\n",
            "8      0.2      0.75  ...      313.877            16806\n",
            "1        0       0.5  ...      330.937            16806\n",
            "4      0.1      0.75  ...      163.642            16806\n",
            "9      0.2       0.5  ...      525.073            16806\n",
            "11     0.2       0.1  ...      432.861            16806\n",
            "13     0.3       0.5  ...      540.017            16806\n",
            "14     0.3      0.25  ...      460.467            16806\n",
            "6      0.1      0.25  ...      435.832            16806\n",
            "12     0.3      0.75  ...      536.408            16806\n",
            "10     0.2      0.25  ...      398.341            16806\n",
            "15     0.3       0.1  ...      542.507            16806\n",
            "\n",
            "[16 rows x 10 columns]\n"
          ],
          "name": "stdout"
        }
      ]
    },
    {
      "cell_type": "code",
      "metadata": {
        "id": "ar7UUpVnz6mL"
      },
      "source": [
        "best_model_ix = q3_df['val_loss'].astype(float).idxmin();\n",
        "best_model = pd.DataFrame(rs_fnn[best_model_ix].history)\n",
        "best_model.to_csv(working_folder + 'fnn_best_model_history.csv')"
      ],
      "execution_count": null,
      "outputs": []
    },
    {
      "cell_type": "code",
      "metadata": {
        "id": "yKgszQzuSW_9",
        "outputId": "2073e0a6-b369-4681-dbcd-30f512cd0104",
        "colab": {
          "base_uri": "https://localhost:8080/",
          "height": 1000
        }
      },
      "source": [
        "import seaborn as sns\n",
        "\n",
        "q3_df = pd.read_csv(working_folder + 'Q3_fnn_results.csv')\n",
        "data = q3_df[['dropout', 'lr_factor', 'val_loss']]\n",
        "data = data.pivot(index='dropout', columns='lr_factor', values='val_loss')\n",
        "sns.heatmap(data)\n",
        "\n",
        "# plotting results\n",
        "f, axes = plt.subplots(3,1,figsize=(6,12))\n",
        "sns.scatterplot(\n",
        "    data=q3_df, x=\"elapsed_time\", y=\"val_loss\", hue=\"lr_factor\", style=\"dropout\", sizes=(30, 500), ax=axes[0]);\n",
        "axes[0].legend(bbox_to_anchor=(1.05, 1), loc=2, borderaxespad=0.)\n",
        "axes[0].set_title('Comparison of different FNN models')\n",
        "axes[0].set_xlabel('Training time')\n",
        "axes[0].set_ylabel('Validation loss')\n",
        "\n",
        "# this plot only works if the training was just run, and we have access to the rs_fnn object\n",
        "try:\n",
        "  best_model_ix = q3_df['val_loss'].astype(float).idxmin();\n",
        "  axes[1].plot(rs_fnn[best_model_ix].history['loss'],label='Training loss');\n",
        "  axes[1].plot(rs_fnn[best_model_ix].history['val_loss'],label='Validation loss');\n",
        "  axes[1].set_title('Training history of best FNN model');\n",
        "  axes[1].set_xlabel('Epoch')\n",
        "  axes[1].set_ylabel('Loss')\n",
        "  f.tight_layout()\n",
        "    \n",
        "  axes[2].plot(rs_fnn[best_model_ix].history['lr'], label='Learning rate');\n",
        "  axes[2].set_xlabel('Epoch')\n",
        "  axes[2].set_ylabel('Learning rate')\n",
        "except NameError:\n",
        "  print('You need to run the training to ensure rs_fnn is defined!')"
      ],
      "execution_count": null,
      "outputs": [
        {
          "output_type": "display_data",
          "data": {
            "image/png": "[encoded data removed]",
            "text/plain": [
              "<Figure size 432x288 with 2 Axes>"
            ]
          },
          "metadata": {
            "tags": [],
            "needs_background": "light"
          }
        },
        {
          "output_type": "display_data",
          "data": {
            "image/png": "[encoded data removed]",
            "text/plain": [
              "<Figure size 432x864 with 3 Axes>"
            ]
          },
          "metadata": {
            "tags": [],
            "needs_background": "light"
          }
        }
      ]
    },
    {
      "cell_type": "code",
      "metadata": {
        "id": "KzEpnGXk8qtL",
        "outputId": "128592f9-c0b5-4118-a253-434251b672b6",
        "colab": {
          "base_uri": "https://localhost:8080/",
          "height": 1000
        }
      },
      "source": [
        "dropouts = [0, 0.1, 0.2, 0.3]\n",
        "reduceLR = [0.75, 0.5, 0.25, 0.1] # reduce the learning rate by up to a factor 10, as noted on https://www.tensorflow.org/api_docs/python/tf/keras/callbacks/ReduceLROnPlateau\n",
        "\n",
        "all_combinations = list(itertools.product(*[dropouts, reduceLR]))\n",
        "\n",
        "q3_df_2 = pd.DataFrame(index=np.arange(len(all_combinations)), columns=['dropout', 'lr_factor', 'model_name', 'tr_loss','val_loss','tr_acc','val_acc','val_f1score','elapsed_time','trainable_params'])\n",
        "\n",
        "rs_rnn = [] # histories\n",
        "\n",
        "try:\n",
        "  for i, combination in enumerate(all_combinations):\n",
        "    dropout, lr_factor = combination\n",
        "    model_name = f\"RNN_dropout={dropout}_lr_factor={lr_factor}\"\n",
        "\n",
        "    q3_df_2.loc[i,['dropout','lr_factor', 'model_name']] = combination + (model_name,)\n",
        "\n",
        "    # set up callbacks\n",
        "    earlyStopping = EarlyStopping(monitor='val_loss', patience=50, verbose=1,  min_delta=1e-6, mode='auto')\n",
        "    modelCheckpoint = ModelCheckpoint(f'{working_folder}{model_name}.hdf5', save_best_only=True, monitor='val_loss', mode='auto', save_weights_only=True)\n",
        "    timeStopping = tfa.callbacks.TimeStopping(seconds=15*60, verbose=1) # timeout is 15 minutes\n",
        "    reduceLROnPlateau = ReduceLROnPlateau(monitor='val_loss', factor=lr_factor, patience=5, min_lr=0.0005) # reduce by factor, up to the minimum, which is 1/10th of the original\n",
        "    callbacks = [earlyStopping, modelCheckpoint, timeStopping, reduceLROnPlateau]\n",
        "\n",
        "    # define model\n",
        "    model = RefRNNmodel(dropout_rate=dropout)\n",
        "\n",
        "    # compile\n",
        "    model.compile(loss='binary_crossentropy',optimizer=Adam(lr=0.005), metrics=['accuracy'])\n",
        "\n",
        "    # start training!\n",
        "    print(f'Training {model_name}, #{i+1} of {len(all_combinations)}')\n",
        "\n",
        "    start_time = time.time()\n",
        "    r = model.fit(Xtra, Ytra,epochs=1000,validation_data = (Xval, Yval), callbacks=callbacks, verbose=0, batch_size=256)\n",
        "    rs_rnn.append(r)\n",
        "\n",
        "    # store results\n",
        "    q3_df_2.loc[i, 'elapsed_time'] = time.time() - start_time\n",
        "    best_ix = np.array(r.history['val_loss']).argmin()\n",
        "    q3_df_2.loc[i,['tr_loss','val_loss','tr_acc','val_acc']] = [r.history['loss'][best_ix],r.history['val_loss'][best_ix], r.history['accuracy'][best_ix],r.history['val_accuracy'][best_ix]]\n",
        "    q3_df_2.loc[i,'trainable_params'] = get_trainable_params(model)\n",
        "\n",
        "    # load weights and compute f1_score\n",
        "    model.load_weights(f'{working_folder}{model_name}.hdf5')\n",
        "    Yval_pred = (model.predict(Xval)>0.5).astype(int)\n",
        "    q3_df_2.loc[i,['val_f1score']] = f1_score(Yval,Yval_pred, average = 'weighted') #'weighted' for average because we have label imbalance (https://scikit-learn.org/stable/modules/generated/sklearn.metrics.f1_score.html)\n",
        "    print(q3_df_2.loc[i,['elapsed_time','val_loss','val_acc','val_f1score']])\n",
        "\n",
        "  q3_df_2.to_csv(working_folder + 'Q3_rnn_results.csv')\n",
        "  print(q3_df_2.sort_values(by='val_loss'))\n",
        "except KeyboardInterrupt:\n",
        "  print('User cancelled training!')"
      ],
      "execution_count": null,
      "outputs": [
        {
          "output_type": "stream",
          "text": [
            "Training RNN_dropout=0_lr_factor=0.75, #1 of 16\n",
            "Epoch 00171: early stopping\n",
            "elapsed_time     390.307\n",
            "val_loss        0.195978\n",
            "val_acc         0.725753\n",
            "val_f1score     0.718168\n",
            "Name: 0, dtype: object\n",
            "Training RNN_dropout=0_lr_factor=0.5, #2 of 16\n",
            "Timed stopping at epoch 263 after training for 0:10:00\n",
            "elapsed_time     601.343\n",
            "val_loss        0.198005\n",
            "val_acc         0.717445\n",
            "val_f1score     0.712453\n",
            "Name: 1, dtype: object\n",
            "Training RNN_dropout=0_lr_factor=0.25, #3 of 16\n",
            "Timed stopping at epoch 263 after training for 0:10:00\n",
            "elapsed_time      600.08\n",
            "val_loss        0.226405\n",
            "val_acc         0.674247\n",
            "val_f1score     0.644259\n",
            "Name: 2, dtype: object\n",
            "Training RNN_dropout=0_lr_factor=0.1, #4 of 16\n",
            "Timed stopping at epoch 263 after training for 0:10:00\n",
            "elapsed_time     601.312\n",
            "val_loss        0.204322\n",
            "val_acc         0.705192\n",
            "val_f1score     0.694706\n",
            "Name: 3, dtype: object\n",
            "Training RNN_dropout=0.1_lr_factor=0.75, #5 of 16\n",
            "Epoch 00190: early stopping\n",
            "elapsed_time     440.882\n",
            "val_loss        0.191297\n",
            "val_acc         0.735202\n",
            "val_f1score     0.729258\n",
            "Name: 4, dtype: object\n",
            "Training RNN_dropout=0.1_lr_factor=0.5, #6 of 16\n",
            "Epoch 00254: early stopping\n",
            "elapsed_time     576.368\n",
            "val_loss        0.206396\n",
            "val_acc         0.713915\n",
            "val_f1score     0.703847\n",
            "Name: 5, dtype: object\n",
            "Training RNN_dropout=0.1_lr_factor=0.25, #7 of 16\n",
            "Timed stopping at epoch 264 after training for 0:10:00\n",
            "elapsed_time     602.015\n",
            "val_loss         0.21816\n",
            "val_acc         0.688681\n",
            "val_f1score     0.666508\n",
            "Name: 6, dtype: object\n",
            "Training RNN_dropout=0.1_lr_factor=0.1, #8 of 16\n",
            "Epoch 00160: early stopping\n",
            "elapsed_time     364.994\n",
            "val_loss        0.192231\n",
            "val_acc          0.73676\n",
            "val_f1score     0.728623\n",
            "Name: 7, dtype: object\n",
            "Training RNN_dropout=0.2_lr_factor=0.75, #9 of 16\n",
            "Epoch 00160: early stopping\n",
            "elapsed_time     366.402\n",
            "val_loss        0.182355\n",
            "val_acc          0.75026\n",
            "val_f1score     0.745581\n",
            "Name: 8, dtype: object\n",
            "Training RNN_dropout=0.2_lr_factor=0.5, #10 of 16\n",
            "Timed stopping at epoch 264 after training for 0:10:00\n",
            "elapsed_time     602.037\n",
            "val_loss        0.209959\n",
            "val_acc         0.694496\n",
            "val_f1score     0.682359\n",
            "Name: 9, dtype: object\n",
            "Training RNN_dropout=0.2_lr_factor=0.25, #11 of 16\n",
            "Epoch 00128: early stopping\n",
            "elapsed_time     292.043\n",
            "val_loss        0.200673\n",
            "val_acc         0.719522\n",
            "val_f1score     0.709845\n",
            "Name: 10, dtype: object\n",
            "Training RNN_dropout=0.2_lr_factor=0.1, #12 of 16\n",
            "Epoch 00171: early stopping\n",
            "elapsed_time     389.226\n",
            "val_loss        0.182861\n",
            "val_acc         0.753479\n",
            "val_f1score     0.748109\n",
            "Name: 11, dtype: object\n",
            "Training RNN_dropout=0.3_lr_factor=0.75, #13 of 16\n",
            "Epoch 00187: early stopping\n",
            "elapsed_time     424.754\n",
            "val_loss        0.188856\n",
            "val_acc         0.739356\n",
            "val_f1score     0.731681\n",
            "Name: 12, dtype: object\n",
            "Training RNN_dropout=0.3_lr_factor=0.5, #14 of 16\n",
            "Epoch 00141: early stopping\n",
            "elapsed_time     322.251\n",
            "val_loss        0.185258\n",
            "val_acc          0.73946\n",
            "val_f1score     0.732727\n",
            "Name: 13, dtype: object\n",
            "Training RNN_dropout=0.3_lr_factor=0.25, #15 of 16\n",
            "Timed stopping at epoch 264 after training for 0:10:00\n",
            "elapsed_time     601.134\n",
            "val_loss        0.203058\n",
            "val_acc         0.711526\n",
            "val_f1score     0.697051\n",
            "Name: 14, dtype: object\n",
            "Training RNN_dropout=0.3_lr_factor=0.1, #16 of 16\n",
            "Epoch 00127: early stopping\n",
            "elapsed_time     289.186\n",
            "val_loss        0.181455\n",
            "val_acc         0.752544\n",
            "val_f1score     0.744913\n",
            "Name: 15, dtype: object\n",
            "   dropout lr_factor  ... elapsed_time trainable_params\n",
            "15     0.3       0.1  ...      289.186            47106\n",
            "8      0.2      0.75  ...      366.402            47106\n",
            "11     0.2       0.1  ...      389.226            47106\n",
            "13     0.3       0.5  ...      322.251            47106\n",
            "12     0.3      0.75  ...      424.754            47106\n",
            "4      0.1      0.75  ...      440.882            47106\n",
            "7      0.1       0.1  ...      364.994            47106\n",
            "0        0      0.75  ...      390.307            47106\n",
            "1        0       0.5  ...      601.343            47106\n",
            "10     0.2      0.25  ...      292.043            47106\n",
            "14     0.3      0.25  ...      601.134            47106\n",
            "3        0       0.1  ...      601.312            47106\n",
            "5      0.1       0.5  ...      576.368            47106\n",
            "9      0.2       0.5  ...      602.037            47106\n",
            "6      0.1      0.25  ...      602.015            47106\n",
            "2        0      0.25  ...       600.08            47106\n",
            "\n",
            "[16 rows x 10 columns]\n"
          ],
          "name": "stdout"
        }
      ]
    },
    {
      "cell_type": "code",
      "metadata": {
        "id": "fb0Ys_Vh5jIi"
      },
      "source": [
        "best_model_ix = q3_df_2['val_loss'].astype(float).idxmin();\n",
        "best_model = pd.DataFrame(rs_rnn[best_model_ix].history)\n",
        "best_model.to_csv(working_folder + 'rnn_best_model_history.csv')"
      ],
      "execution_count": null,
      "outputs": []
    },
    {
      "cell_type": "code",
      "metadata": {
        "id": "xFtbId8FU9iY",
        "outputId": "3f3a1bc9-e011-49b4-f2c6-85fa0735e045",
        "colab": {
          "base_uri": "https://localhost:8080/",
          "height": 862
        }
      },
      "source": [
        "# read from csv\n",
        "q3_df_2 = pd.read_csv(working_folder + 'Q3_rnn_results.csv')\n",
        "\n",
        "# plotting heatmap\n",
        "data = q3_df_2[['dropout', 'lr_factor', 'val_loss']]\n",
        "data = data.pivot(index='dropout', columns='lr_factor', values='val_loss')\n",
        "sns.heatmap(data)\n",
        "\n",
        "# plotting results\n",
        "f, axes = plt.subplots(3,1,figsize=(6,8))\n",
        "sns.scatterplot(\n",
        "    data=q3_df_2, x=\"elapsed_time\", y=\"val_loss\", hue=\"lr_factor\", style=\"dropout\", sizes=(30, 500), ax=axes[0]);\n",
        "axes[0].legend(bbox_to_anchor=(1.05, 1), loc=2, borderaxespad=0.)\n",
        "axes[0].set_title('Comparison of different RNN models')\n",
        "axes[0].set_xlabel('Training time')\n",
        "axes[0].set_ylabel('Validation loss')\n",
        "\n",
        "# this plot only works if the training was just run, and we have access to the rs_rnn object\n",
        "try:\n",
        "  best_model_ix = q3_df_2['val_loss'].astype(float).idxmin();\n",
        "  axes[1].plot(rs_rnn[best_model_ix].history['loss'],label='Training loss');\n",
        "  axes[1].plot(rs_rnn[best_model_ix].history['val_loss'],label='Validation loss');\n",
        "  axes[1].set_title('Training history of best RNN model');\n",
        "  axes[1].set_xlabel('Epoch')\n",
        "  axes[1].set_ylabel('Loss')\n",
        "  f.tight_layout()\n",
        "\n",
        "  axes[2].plot(rs_rnn[best_model_ix].history['lr'], label='Learning rate');\n",
        "  axes[2].set_xlabel('Epoch')\n",
        "  axes[2].set_ylabel('Learning rate')\n",
        "except NameError:\n",
        "  print('You need to run the training to ensure rs_rnn is defined!')"
      ],
      "execution_count": null,
      "outputs": [
        {
          "output_type": "display_data",
          "data": {
            "image/png": "[encoded data removed]",
            "text/plain": [
              "<Figure size 432x288 with 2 Axes>"
            ]
          },
          "metadata": {
            "tags": [],
            "needs_background": "light"
          }
        },
        {
          "output_type": "display_data",
          "data": {
            "image/png": "[encoded data removed]",
            "text/plain": [
              "<Figure size 432x576 with 3 Axes>"
            ]
          },
          "metadata": {
            "tags": [],
            "needs_background": "light"
          }
        }
      ]
    },
    {
      "cell_type": "markdown",
      "metadata": {
        "id": "hnfLYwSqY3OP"
      },
      "source": [
        "#### Analysis\n",
        "For the FNN, we can see that varying the lr_factor for the ReduceLROnPlateau callback and varying the overall dropout, can make a bit of a difference to the final best loss on the validation set. However, this difference is very small. In the end, the model with dropout 0.1 and lr_factor 0.1 ended up getting the best final loss value. The shown learning rate and loss graphs display this configuration.\n",
        "\n",
        "For the RNN, the difference between the different configurations is a bit more pronounced. The model with the best final loss value, also has a (relatively) short running time, making it an even more attractive option. This one uses a 0.3 dropout combined with a 0.1 lr_factor for the ReduceLROnPlateau. The learning rate and loss over epochs is shown for this configuration in the graphs above.\n",
        "\n",
        "One final note is that the total running time for the RNN models is 600 seconds, which is 10 minutes, whereas the assignment specified 15 minutes. From the scatter plot that compares the different configurations, it is clear that the models taking up the full 10 minutes were already quite a bit higher in terms of loss value, and not in an absolute sense, let alone relative to the running time, would any of these likely get close to outperforming the configurations with lower loss values and shorter running times, if 5 extra minutes were given."
      ]
    },
    {
      "cell_type": "markdown",
      "metadata": {
        "id": "7Z4EZruN_tqG"
      },
      "source": [
        "#### Part 4. <u> Check performances of best ANN on the test dataset </u>.\n",
        "\n",
        "You are asked to check the classification performances of the best, refined, ANN you trained. \n",
        "\n",
        "_Instructions_\n",
        "- Load the best model weights for the best architecture (saved via ModelCheckpoint) in Part 3;\n",
        "- Compute predictions on the test dataset;  \n",
        "\n",
        "_Tasks_\n",
        "- Plot/print the *confusion matrix* for the test dataset (ground truth vs predictions);\n",
        "- Print the *classification report* for the test dataset;\n",
        "- Comment the results. Does the model perform well enough to be employed? Are performances equal across the different classes? If not, why? What are possible causes of misclassification? (note: visualizing typical signatures, like done at the beginning of the notebook might be helpful).\n",
        "\n"
      ]
    },
    {
      "cell_type": "code",
      "metadata": {
        "id": "D0kup1YhCzJ4",
        "outputId": "0b7abf9c-a223-45a5-8389-20e0cf4219cb",
        "colab": {
          "base_uri": "https://localhost:8080/",
          "height": 121
        }
      },
      "source": [
        "import pandas as pd\n",
        "from tensorflow.keras.layers import Input, Dense, SimpleRNN, GRU, LSTM, Flatten, Dropout, Bidirectional\n",
        "from tensorflow.keras.models import Model\n",
        "from tensorflow.keras.optimizers import SGD, Adam, RMSprop\n",
        "from sklearn.model_selection import train_test_split\n",
        "import numpy as np\n",
        "\n",
        "print('Loading CSV file...')\n",
        "df = pd.read_csv('./gdrive/My Drive/CS4305TU_RNN/household_water_consumption_identification.csv')\n",
        "end_uses = ['toilet', 'shower', 'faucet', 'clotheswasher', 'dishwasher', 'bathtub']\n",
        "\n",
        "\n",
        "def create_dataset(df):\n",
        "    # group each episode (they will be sorted automatically based on current order)\n",
        "    df_grouped = df.groupby('episode')#[end_uses]\n",
        "    X, Y = [], []\n",
        "    for group_name, df_group in df_grouped:\n",
        "        x = df_group.household.values\n",
        "        X.append(x)\n",
        "        y = df_group[end_uses].values\n",
        "        Y.append(y.sum(axis=0) > 0)\n",
        "    X = np.array(X)\n",
        "    Y = np.array(Y)\n",
        "    return X, Y\n",
        "\n",
        "\n",
        "# tra = training, val = validation (early stopping), tst = testing (unseen)\n",
        "L = 60  # 10 minutes episode length, sampled every 10 seconds\n",
        "print('Creating dataset...')\n",
        "X, Y = create_dataset(df)\n",
        "Xtra, Xval, Ytra, Yval = train_test_split(X, Y, test_size=0.25, shuffle=False)\n",
        "Xval, Xtst, Yval, Ytst = train_test_split(Xval, Yval, test_size=0.5, shuffle=False)\n",
        "\n",
        "def RefRNNmodel(dropout_rate=0.3):\n",
        "    i = Input(shape=(L, 1))\n",
        "    x = Bidirectional(LSTM(75, activation='tanh', return_sequences=False, name='BiLSTM'))(i)\n",
        "    x = Dropout(dropout_rate)(x)\n",
        "    x = Dense(6, activation='sigmoid', name='Output')(x)\n",
        "    model = Model(i, x)\n",
        "    return model\n",
        "\n",
        "# define params\n",
        "dropout = 0.3\n",
        "lr_factor = 0.1\n",
        "\n",
        "# define model\n",
        "print('Creating RNN...')\n",
        "model = RefRNNmodel(dropout_rate=dropout)\n",
        "\n",
        "# compile\n",
        "model.compile(loss='binary_crossentropy', optimizer=Adam(lr=0.005), metrics=['accuracy'])\n",
        "\n",
        "# load weights and compute f1_score\n",
        "print('Loading weights...')\n",
        "model.load_weights('./gdrive/My Drive/CS4305TU_RNN/RNN_dropout=0.3_lr_factor=0.1.hdf5')\n",
        "print('Making predictions...')\n",
        "Ytst_pred = (model.predict(Xtst)>0.5).astype(int)\n",
        "\n",
        "print('Done!')"
      ],
      "execution_count": 82,
      "outputs": [
        {
          "output_type": "stream",
          "text": [
            "Loading CSV file...\n",
            "Creating dataset...\n",
            "Creating RNN...\n",
            "Loading weights...\n",
            "Making predictions...\n",
            "Done!\n"
          ],
          "name": "stdout"
        }
      ]
    },
    {
      "cell_type": "markdown",
      "metadata": {
        "id": "QfdFf-lcT5OI"
      },
      "source": [
        ""
      ]
    },
    {
      "cell_type": "code",
      "metadata": {
        "id": "PX7FWc8ILNpX",
        "outputId": "4af361ee-6bc2-4ed6-93b0-4fac82ed988c",
        "colab": {
          "base_uri": "https://localhost:8080/",
          "height": 1000
        }
      },
      "source": [
        "#code taken from assignment_utils.py provided in the assignment\n",
        "#also referenced https://scikit-learn.org/0.18/auto_examples/model_selection/plot_confusion_matrix.html\n",
        "import itertools\n",
        "import numpy as np\n",
        "import matplotlib.pyplot as plt\n",
        "from tensorflow.keras import backend as K\n",
        "\n",
        "def plot_confusion_matrix(cm, classes=end_uses,\n",
        "                          normalize=False,\n",
        "                          title='Confusion matrix',\n",
        "                          cmap=plt.cm.Blues,figsize=(5,5)):\n",
        "    \"\"\"\n",
        "    This function prints and plots the confusion matrix.\n",
        "    Normalization can be applied by setting `normalize=True`.\n",
        "    \n",
        "    adapted from https://scikit-learn.org/0.18/auto_examples/model_selection/plot_confusion_matrix.html\n",
        "    \"\"\"\n",
        "    if normalize:\n",
        "      cm = cm.astype('float') / cm.sum(axis=1)[:, np.newaxis]\n",
        "      print(\"Normalized confusion matrix\")\n",
        "    else:\n",
        "      print('Confusion matrix, without normalization')\n",
        "    \n",
        "    print(cm)\n",
        "    \n",
        "    f, ax = plt.subplots(1,figsize=figsize)\n",
        "    ax.imshow(cm, interpolation='nearest', cmap=cmap,)\n",
        "    ax.set_title(title)\n",
        "    tick_marks = np.arange(len(classes))\n",
        "    plt.xticks(tick_marks, classes, rotation=45)\n",
        "    plt.yticks(tick_marks, classes)\n",
        "    \n",
        "    fmt = '.2f' if normalize else 'd'\n",
        "    thresh = cm.max() / 2.\n",
        "    for i, j in itertools.product(range(cm.shape[0]), range(cm.shape[1])):\n",
        "      ax.text(j, i, format(cm[i, j], fmt),\n",
        "               horizontalalignment=\"center\",\n",
        "               color=\"white\" if cm[i, j] > thresh else \"black\")\n",
        "    \n",
        "    f.tight_layout()\n",
        "    ax.set_ylabel('True label')\n",
        "    ax.set_xlabel('Predicted label')\n",
        "\n",
        "# Compute confusion matrix\n",
        "cnf_matrix = confusion_matrix(Ytst.argmax(axis=1), Ytst_pred.argmax(axis=1))\n",
        "\n",
        "# Plot non-normalized confusion matrix\n",
        "plt.figure()\n",
        "plot_confusion_matrix(cnf_matrix, classes=end_uses,\n",
        "                      title='Confusion matrix, without normalization')\n",
        "\n",
        "# Plot normalized confusion matrix\n",
        "plt.figure()\n",
        "plot_confusion_matrix(cnf_matrix, classes=end_uses, normalize=True,\n",
        "                      title='Normalized confusion matrix')\n",
        "\n",
        "plt.show()"
      ],
      "execution_count": 86,
      "outputs": [
        {
          "output_type": "stream",
          "text": [
            "Confusion matrix, without normalization\n",
            "[[1501    7  242    0   14   43]\n",
            " [1426   13   59    0   22   55]\n",
            " [1821   13  566    0   21   72]\n",
            " [ 504    0    4  829  117   88]\n",
            " [ 279    1    6  752  273   83]\n",
            " [ 574    1   36    0    9  199]]\n",
            "Normalized confusion matrix\n",
            "[[8.31e-01 3.87e-03 1.34e-01 0.00e+00 7.75e-03 2.38e-02]\n",
            " [9.05e-01 8.25e-03 3.75e-02 0.00e+00 1.40e-02 3.49e-02]\n",
            " [7.30e-01 5.21e-03 2.27e-01 0.00e+00 8.42e-03 2.89e-02]\n",
            " [3.27e-01 0.00e+00 2.59e-03 5.38e-01 7.59e-02 5.71e-02]\n",
            " [2.00e-01 7.17e-04 4.30e-03 5.39e-01 1.96e-01 5.95e-02]\n",
            " [7.01e-01 1.22e-03 4.40e-02 0.00e+00 1.10e-02 2.43e-01]]\n"
          ],
          "name": "stdout"
        },
        {
          "output_type": "display_data",
          "data": {
            "text/plain": [
              "<Figure size 432x288 with 0 Axes>"
            ]
          },
          "metadata": {
            "tags": []
          }
        },
        {
          "output_type": "display_data",
          "data": {
            "image/png": "[encoded data removed]",
            "text/plain": [
              "<Figure size 360x360 with 1 Axes>"
            ]
          },
          "metadata": {
            "tags": [],
            "needs_background": "light"
          }
        },
        {
          "output_type": "display_data",
          "data": {
            "text/plain": [
              "<Figure size 432x288 with 0 Axes>"
            ]
          },
          "metadata": {
            "tags": []
          }
        },
        {
          "output_type": "display_data",
          "data": {
            "image/png": "[encoded data removed]",
            "text/plain": [
              "<Figure size 360x360 with 1 Axes>"
            ]
          },
          "metadata": {
            "tags": [],
            "needs_background": "light"
          }
        }
      ]
    },
    {
      "cell_type": "code",
      "metadata": {
        "id": "hqmeYkcgZjwX",
        "outputId": "0393b6bd-a46a-4bfd-90c1-9013a2baaadd",
        "colab": {
          "base_uri": "https://localhost:8080/",
          "height": 315
        }
      },
      "source": [
        "#printing classification report\n",
        "print(classification_report(Ytst, Ytst_pred, target_names=end_uses))"
      ],
      "execution_count": 85,
      "outputs": [
        {
          "output_type": "stream",
          "text": [
            "               precision    recall  f1-score   support\n",
            "\n",
            "       toilet       0.28      0.66      0.39      1807\n",
            "       shower       0.37      0.01      0.02      1575\n",
            "       faucet       0.60      0.23      0.34      2493\n",
            "clotheswasher       0.52      0.54      0.53      1542\n",
            "   dishwasher       0.61      0.22      0.32      1394\n",
            "      bathtub       0.37      0.25      0.30       819\n",
            "\n",
            "    micro avg       0.40      0.32      0.36      9630\n",
            "    macro avg       0.46      0.32      0.32      9630\n",
            " weighted avg       0.47      0.32      0.32      9630\n",
            "  samples avg       0.32      0.32      0.32      9630\n",
            "\n"
          ],
          "name": "stdout"
        },
        {
          "output_type": "stream",
          "text": [
            "/usr/local/lib/python3.6/dist-packages/sklearn/metrics/_classification.py:1272: UndefinedMetricWarning: Precision and F-score are ill-defined and being set to 0.0 in samples with no predicted labels. Use `zero_division` parameter to control this behavior.\n",
            "  _warn_prf(average, modifier, msg_start, len(result))\n"
          ],
          "name": "stderr"
        }
      ]
    },
    {
      "cell_type": "markdown",
      "metadata": {
        "id": "TIhjwnR-Zszb"
      },
      "source": [
        "From our analysis, this model does **not** perform well enough to be deployed. Performance across the board for all classes is \"okay\" at best and mediocre at worst. For instance water use from a shower is classified as water use from a toilet 91% of the time. But everyone knows that they are vastly different pieces of equipment! The best accuracy seems to be for faucets and dishwashers - 60% and 61% accuracy respectively. This itself is not great by modern ML standards to begin with. It's just that the rest are so bad that ~60% seems good by comparison. These results appear to be in line with what we were told to expect in the lectures given the data we are working with.\n",
        "\n",
        "We suspect that one major reason for this is the following line of code, which we adapted from the provided examples:\n",
        "\n",
        "```python\n",
        "Ytst_pred = (model.predict(Xtst)>0.5).astype(int)\n",
        "```\n",
        "So if it sees anything less than 0.5 it will classify that as 0 (toilet), possibly explaining why so many final predicted values are toilets."
      ]
    }
  ]
}