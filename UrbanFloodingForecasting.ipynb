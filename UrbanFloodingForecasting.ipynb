{
  "nbformat": 4,
  "nbformat_minor": 0,
  "metadata": {
    "accelerator": "GPU",
    "colab": {
      "name": "UrbanFloodingForecasting_withANNs.ipynb",
      "provenance": [],
      "collapsed_sections": []
    },
    "kernelspec": {
      "display_name": "Python 3",
      "name": "python3"
    }
  },
  "cells": [
    {
      "cell_type": "markdown",
      "metadata": {
        "id": "v8_XSXJcfgq9"
      },
      "source": [
        "\n",
        "<center><img src=\"https://www.thames21.org.uk/wp-content/uploads/2014/11/Grey-Street.jpg\"></center>\n",
        "\n",
        "\n",
        "### Introduction\n",
        "\n",
        "<a href=\"https://en.wikipedia.org/wiki/Urban_runoff\">Urban runoff</a> is surface runoff of rainwater created by urbanization. This runoff is a major source of flooding and water pollution in urban communities worldwide.\n",
        "\n",
        "During rain storms and other precipitation events, concrete, asphalt and other surfaces carry polluted stormwater to storm drains, instead of allowing the water to percolate through soil. This causes lowering of the water table (because groundwater recharge is lessened) and flooding since the amount of water that remains on the surface is greater. Most municipal storm sewer systems discharge stormwater, untreated, to streams, rivers and bays. This excess water can also make its way into people's properties through basement backups and seepage through building wall and floors.\n",
        "\n",
        "In this notebook you will use *FNNs*, *SimpleRNNs*, as well as *LSTMs* to predict whether a certain storm event will result in flooding of an Urban area. The original input sequences are events of different length sampled at 5 minutes time resolution; the output is a binary variable which is equal to 1 in case flooding has occurred as a consequence of the storm. It's important to note that the drainage system is supposed to be empty before the storm (otherwise we would have needed more variable to make reliable predictions, e.g. the amount of water already stored in the storage system).\n",
        "\n",
        "Which type of ANN will provide better prediction performances? "
      ]
    },
    {
      "cell_type": "markdown",
      "metadata": {
        "id": "EXHeAKe2x_Zt"
      },
      "source": [
        "#### Link with Google Drive and load modules"
      ]
    },
    {
      "cell_type": "code",
      "metadata": {
        "id": "Q8cpLED9VrUj",
        "outputId": "80e1fd1b-2a45-4a6c-970b-89016fb0954a",
        "colab": {
          "base_uri": "https://localhost:8080/",
          "height": 50
        }
      },
      "source": [
        "# link to Google Drive to access files\n",
        "from google.colab import drive\n",
        "drive.mount('/content/gdrive', force_remount=True)\n",
        "\n",
        "!ls gdrive "
      ],
      "execution_count": 1,
      "outputs": [
        {
          "output_type": "stream",
          "text": [
            "Mounted at /content/gdrive\n",
            "'My Drive'\n"
          ],
          "name": "stdout"
        }
      ]
    },
    {
      "cell_type": "code",
      "metadata": {
        "id": "iB2po8cWAPV8"
      },
      "source": [
        "# generic modules\n",
        "import datetime, os\n",
        "import itertools\n",
        "import time\n",
        "import pickle\n",
        "\n",
        "# append working folder\n",
        "import sys\n",
        "working_folder = './gdrive/My Drive/Teaching/CS4305TU Applied Machine Learning/SWMM/'\n",
        "sys.path.append(working_folder)\n",
        "\n",
        "\n",
        "# basic data science modules\n",
        "import numpy as np\n",
        "import pandas as pd\n",
        "import matplotlib.pyplot as plt\n",
        "%matplotlib inline\n",
        "import seaborn as sns\n",
        "\n",
        "# keras\n",
        "from tensorflow.keras.layers import Input, Dense, SimpleRNN, GRU, LSTM, Flatten, Dropout, Bidirectional\n",
        "from tensorflow.keras.models import Model\n",
        "from tensorflow.keras.optimizers import SGD, Adam, RMSprop\n",
        "from tensorflow.keras.callbacks import EarlyStopping, ModelCheckpoint, ReduceLROnPlateau, LearningRateScheduler\n",
        "import tensorflow_addons as tfa\n",
        "import tensorflow as tf\n",
        "from tensorflow.keras import backend as K\n",
        "\n",
        "# sklearn helper functions\n",
        "from sklearn.preprocessing import MinMaxScaler\n",
        "from sklearn.model_selection import train_test_split\n",
        "from sklearn.metrics import accuracy_score, precision_score, recall_score, f1_score, classification_report, confusion_matrix"
      ],
      "execution_count": 2,
      "outputs": []
    },
    {
      "cell_type": "markdown",
      "metadata": {
        "id": "wSa6jP6fyEQ-"
      },
      "source": [
        "#### Load dataset (using Python <a href=\"https://docs.python.org/3/library/pickle.html\">pickle</a>)"
      ]
    },
    {
      "cell_type": "code",
      "metadata": {
        "id": "wf2TF4nqAqfz",
        "outputId": "0f0811f0-7267-418c-d823-14b375252537",
        "colab": {
          "base_uri": "https://localhost:8080/",
          "height": 50
        }
      },
      "source": [
        "# load dataset\n",
        "filename = 'SWMM_FloodNoFlood.pickle'\n",
        "with open(working_folder+filename, 'rb') as handle:\n",
        "    dataset = pickle.load(handle)\n",
        "print(dataset.keys())\n",
        "n_episodes = len(dataset['input'])\n",
        "print(f\"{n_episodes} episodes in the dataset\")"
      ],
      "execution_count": 3,
      "outputs": [
        {
          "output_type": "stream",
          "text": [
            "dict_keys(['input', 'output'])\n",
            "314 episodes in the dataset\n"
          ],
          "name": "stdout"
        }
      ]
    },
    {
      "cell_type": "markdown",
      "metadata": {
        "id": "Xxz9XXuByoBl"
      },
      "source": [
        "#### Visualize events"
      ]
    },
    {
      "cell_type": "code",
      "metadata": {
        "id": "8BcCETBlA4ty",
        "outputId": "e30aa0f5-9be2-4a79-cbbd-a8f9da02603d",
        "colab": {
          "base_uri": "https://localhost:8080/",
          "height": 227
        }
      },
      "source": [
        "# let's visualize some events\n",
        "# choose random seed\n",
        "np.random.seed(31233)\n",
        "\n",
        "# initialize figure with subplots\n",
        "f, ax = plt.subplots(1,figsize=(10,3))\n",
        "\n",
        "# select episode\n",
        "episode_num = np.random.choice(len(dataset['input']))\n",
        "rainfall = dataset['input'][episode_num]\n",
        "flooding = dataset['output'][episode_num]\n",
        "\n",
        "# plot\n",
        "ax.plot(rainfall, lw=1.5, color='blue');\n",
        "if flooding == True:\n",
        "  ax.set_title(f'episode #{episode_num:03d}, FLOODING')\n",
        "else:\n",
        "  ax.set_title(f'episode #{episode_num:03d}, no flooding')\n"
      ],
      "execution_count": 12,
      "outputs": [
        {
          "output_type": "display_data",
          "data": {
            "image/png": "[encoded data removed]",
            "text/plain": [
              "<Figure size 720x216 with 1 Axes>"
            ]
          },
          "metadata": {
            "tags": [],
            "needs_background": "light"
          }
        }
      ]
    },
    {
      "cell_type": "code",
      "metadata": {
        "id": "H1UpWvV-BgUC",
        "outputId": "2e58039f-8fe4-47a9-ce26-adc1ef2fa3cb",
        "colab": {
          "base_uri": "https://localhost:8080/",
          "height": 211
        }
      },
      "source": [
        "# cycle through all episodes, store length of sequence and flooding\n",
        "df = pd.DataFrame(columns=['seq_length','flooding'])\n",
        "for i in np.arange(n_episodes):\n",
        "  df.loc[i,['seq_length','flooding']] = len(dataset['input'][i]), dataset['output'][i]\n",
        "\n",
        "# plot input and output distributoin\n",
        "f, axes = plt.subplots(1,2,figsize=(10,3));\n",
        "\n",
        "# plot distribution of seq_length\n",
        "df.seq_length.plot(kind='hist',bins=30, ax=axes[0]);\n",
        "\n",
        "# print distribution of flooding column\n",
        "df.flooding.value_counts().plot(kind='pie', ax=axes[1]);\n",
        "\n"
      ],
      "execution_count": 9,
      "outputs": [
        {
          "output_type": "display_data",
          "data": {
            "image/png": "[encoded data removed]",
            "text/plain": [
              "<Figure size 720x216 with 2 Axes>"
            ]
          },
          "metadata": {
            "tags": [],
            "needs_background": "light"
          }
        }
      ]
    },
    {
      "cell_type": "markdown",
      "metadata": {
        "id": "nsnZE021yrVi"
      },
      "source": [
        "#### Reduce dataset"
      ]
    },
    {
      "cell_type": "code",
      "metadata": {
        "id": "UnpgAdiYF8Ts",
        "outputId": "804b17ba-854b-4008-cbdf-d9a80e687e96",
        "colab": {
          "base_uri": "https://localhost:8080/",
          "height": 34
        }
      },
      "source": [
        "# reduce original dataset\n",
        "episodes_to_keep = df[df.seq_length<=500].index.tolist()\n",
        "\n",
        "# create dataset\n",
        "X, Y = [], []\n",
        "for episode in episodes_to_keep:\n",
        "  X.append(dataset['input'][episode].reshape(-1))\n",
        "  Y.append(dataset['output'][episode].astype(int))\n",
        "\n",
        "# transform X and Y in array\n",
        "X = np.array(X)\n",
        "Y = np.array(Y)\n",
        "\n",
        "# tra = training, val = validation (early stopping), test = testing (unseen)\n",
        "T = df.loc[episodes_to_keep].seq_length.max() # max sequence length\n",
        "print(f'The longest rainfall event lasts {T} timesteps (5 minutes)')\n"
      ],
      "execution_count": 6,
      "outputs": [
        {
          "output_type": "stream",
          "text": [
            "The longest rainfall event lasts 496 timesteps (5 minutes)\n"
          ],
          "name": "stdout"
        }
      ]
    },
    {
      "cell_type": "markdown",
      "metadata": {
        "id": "3FLxzm2UyvKC"
      },
      "source": [
        "#### Pad input sequences to reach the same length"
      ]
    },
    {
      "cell_type": "code",
      "metadata": {
        "id": "SH9tvHUDHOAu",
        "outputId": "ed7f870d-82af-47f8-833f-c4306dd4962b",
        "colab": {
          "base_uri": "https://localhost:8080/",
          "height": 84
        }
      },
      "source": [
        "# padding sequences in keras\n",
        "from tensorflow.keras.preprocessing.sequence import pad_sequences\n",
        "sequences = [[1], [2, 3], [4, 5, 6]]\n",
        "print(sequences)\n",
        "print(pad_sequences(sequences, maxlen=4))"
      ],
      "execution_count": 7,
      "outputs": [
        {
          "output_type": "stream",
          "text": [
            "[[1], [2, 3], [4, 5, 6]]\n",
            "[[0 0 0 1]\n",
            " [0 0 2 3]\n",
            " [0 4 5 6]]\n"
          ],
          "name": "stdout"
        }
      ]
    },
    {
      "cell_type": "code",
      "metadata": {
        "id": "w_L_HSE6IKUi",
        "outputId": "526eb7ac-b54d-4c0c-89be-6ba95a7b501e",
        "colab": {
          "base_uri": "https://localhost:8080/",
          "height": 1000
        }
      },
      "source": [
        "print(len(X[0]))\n",
        "X = pad_sequences(X, maxlen=T, dtype='float64')\n",
        "print(len(X[0]))\n",
        "print(X[0])"
      ],
      "execution_count": 8,
      "outputs": [
        {
          "output_type": "stream",
          "text": [
            "100\n",
            "496\n",
            "[0.         0.         0.         0.         0.         0.\n",
            " 0.         0.         0.         0.         0.         0.\n",
            " 0.         0.         0.         0.         0.         0.\n",
            " 0.         0.         0.         0.         0.         0.\n",
            " 0.         0.         0.         0.         0.         0.\n",
            " 0.         0.         0.         0.         0.         0.\n",
            " 0.         0.         0.         0.         0.         0.\n",
            " 0.         0.         0.         0.         0.         0.\n",
            " 0.         0.         0.         0.         0.         0.\n",
            " 0.         0.         0.         0.         0.         0.\n",
            " 0.         0.         0.         0.         0.         0.\n",
            " 0.         0.         0.         0.         0.         0.\n",
            " 0.         0.         0.         0.         0.         0.\n",
            " 0.         0.         0.         0.         0.         0.\n",
            " 0.         0.         0.         0.         0.         0.\n",
            " 0.         0.         0.         0.         0.         0.\n",
            " 0.         0.         0.         0.         0.         0.\n",
            " 0.         0.         0.         0.         0.         0.\n",
            " 0.         0.         0.         0.         0.         0.\n",
            " 0.         0.         0.         0.         0.         0.\n",
            " 0.         0.         0.         0.         0.         0.\n",
            " 0.         0.         0.         0.         0.         0.\n",
            " 0.         0.         0.         0.         0.         0.\n",
            " 0.         0.         0.         0.         0.         0.\n",
            " 0.         0.         0.         0.         0.         0.\n",
            " 0.         0.         0.         0.         0.         0.\n",
            " 0.         0.         0.         0.         0.         0.\n",
            " 0.         0.         0.         0.         0.         0.\n",
            " 0.         0.         0.         0.         0.         0.\n",
            " 0.         0.         0.         0.         0.         0.\n",
            " 0.         0.         0.         0.         0.         0.\n",
            " 0.         0.         0.         0.         0.         0.\n",
            " 0.         0.         0.         0.         0.         0.\n",
            " 0.         0.         0.         0.         0.         0.\n",
            " 0.         0.         0.         0.         0.         0.\n",
            " 0.         0.         0.         0.         0.         0.\n",
            " 0.         0.         0.         0.         0.         0.\n",
            " 0.         0.         0.         0.         0.         0.\n",
            " 0.         0.         0.         0.         0.         0.\n",
            " 0.         0.         0.         0.         0.         0.\n",
            " 0.         0.         0.         0.         0.         0.\n",
            " 0.         0.         0.         0.         0.         0.\n",
            " 0.         0.         0.         0.         0.         0.\n",
            " 0.         0.         0.         0.         0.         0.\n",
            " 0.         0.         0.         0.         0.         0.\n",
            " 0.         0.         0.         0.         0.         0.\n",
            " 0.         0.         0.         0.         0.         0.\n",
            " 0.         0.         0.         0.         0.         0.\n",
            " 0.         0.         0.         0.         0.         0.\n",
            " 0.         0.         0.         0.         0.         0.\n",
            " 0.         0.         0.         0.         0.         0.\n",
            " 0.         0.         0.         0.         0.         0.\n",
            " 0.         0.         0.         0.         0.         0.\n",
            " 0.         0.         0.         0.         0.         0.\n",
            " 0.         0.         0.         0.         0.         0.\n",
            " 0.         0.         0.         0.         0.         0.\n",
            " 0.         0.         0.         0.         0.         0.\n",
            " 0.         0.         0.         0.         0.         0.\n",
            " 0.         0.         0.         0.         0.         0.\n",
            " 0.         0.         0.         0.         0.         0.\n",
            " 0.         0.         0.         0.         0.         0.\n",
            " 0.         0.         0.         0.         0.         0.\n",
            " 0.         0.         0.         0.         0.         0.\n",
            " 0.         0.         0.         0.         0.         0.\n",
            " 0.         0.         0.         0.         0.         0.\n",
            " 0.         0.         0.         0.         0.         0.\n",
            " 0.         0.07733333 0.         0.03066667 0.88933333 0.\n",
            " 0.03066667 0.88933333 0.         0.04266667 1.23733333 0.\n",
            " 0.09600001 1.34400008 0.         0.26666667 1.73333333 0.\n",
            " 0.21866665 1.42133325 0.         0.28666668 1.43333341 0.\n",
            " 0.31199998 1.24799992 0.         0.56       2.23999999 1.12\n",
            " 0.41533332 1.77999995 1.36466663 0.33066667 1.24       0.90933333\n",
            " 0.05866667 0.22       0.16133333 0.06       0.2        0.14\n",
            " 0.04       0.12       0.08       0.024      0.06       0.036\n",
            " 0.41999998 0.89999995 0.47999997 0.35       0.7        0.35\n",
            " 0.         0.         0.         0.         0.         0.\n",
            " 0.         0.         0.         0.         0.         0.\n",
            " 0.         0.         0.         0.         0.         0.\n",
            " 0.         0.         0.         0.         0.         0.\n",
            " 0.         0.         0.         0.         0.         0.\n",
            " 0.         0.         0.         0.         0.         0.\n",
            " 0.         0.         0.         0.         0.         0.\n",
            " 0.         0.         0.         0.        ]\n"
          ],
          "name": "stdout"
        }
      ]
    },
    {
      "cell_type": "markdown",
      "metadata": {
        "id": "hunvCirby8mc"
      },
      "source": [
        "#### Create final datasets"
      ]
    },
    {
      "cell_type": "code",
      "metadata": {
        "id": "TAUIZsu1HF6v",
        "outputId": "da5a6113-3860-443a-863d-8cbff2e72a59",
        "colab": {
          "base_uri": "https://localhost:8080/",
          "height": 50
        }
      },
      "source": [
        "Xtra,Xval,Ytra,Yval = train_test_split(X,Y,test_size=0.20,stratify=Y,random_state=42)\n",
        "\n",
        "print(f\"Training: \\tX.shape: {Xtra.shape}, \\tY.shape: {Ytra.shape}\")\n",
        "print(f\"Validation:\\tX.shape: {Xval.shape}, \\tY.shape: {Yval.shape}\")\n",
        "\n",
        "# IMPORTANT: we have little data so we are not using a test dataset! \n",
        "# The validation is used for early stopping, so it is not a real test dataset."
      ],
      "execution_count": 9,
      "outputs": [
        {
          "output_type": "stream",
          "text": [
            "Training: \tX.shape: (201, 496), \tY.shape: (201,)\n",
            "Validation:\tX.shape: (51, 496), \tY.shape: (51,)\n"
          ],
          "name": "stdout"
        }
      ]
    },
    {
      "cell_type": "markdown",
      "metadata": {
        "id": "KDuJdgtUzAY7"
      },
      "source": [
        "#### Craete and train several models"
      ]
    },
    {
      "cell_type": "code",
      "metadata": {
        "id": "9oBjeW2kEwPj"
      },
      "source": [
        "# Function for model creation\n",
        "def FNNmodel(n_hidden_neurons=10, dropout_rate=0.1):\n",
        "  i = Input(shape=(T,))      \n",
        "  x = Dense(neurons, activation='sigmoid', name='Hidden_layer')(i)\n",
        "  x = Dropout(dropout_rate)(x)\n",
        "  x = Dense(1, activation='sigmoid', name='Output')(x)  \n",
        "  model = Model(i,x)\n",
        "  return model\n",
        "\n",
        "def RNNmodel(n_hidden_neurons=10, cell_type='LSTM', dropout_rate=0.2):\n",
        "  i = Input(shape=(T,1))\n",
        "  if cell_type == 'SimpleRNN':\n",
        "      x = SimpleRNN(n_hidden_neurons, activation='tanh', return_sequences=False, name='SimpleRNN')(i)\n",
        "  elif cell_type == 'LSTM':\n",
        "      x = LSTM(n_hidden_neurons, activation='tanh', name='LSTM')(i)\n",
        "  else:\n",
        "    raise Exception(\"Error: Cell type not recognized! Choose between 'SimpleRNN','LSTM', or 'GRU'.\")    \n",
        "  x = Dropout(dropout_rate)(x)\n",
        "  x = Dense(1, activation='sigmoid', name='Output')(x)\n",
        "  model = Model(i,x)\n",
        "  return model"
      ],
      "execution_count": null,
      "outputs": []
    },
    {
      "cell_type": "code",
      "metadata": {
        "id": "GIj3iHBsNp2o",
        "outputId": "d6e26372-0f3e-4ccd-a067-36ecf4697401",
        "colab": {
          "base_uri": "https://localhost:8080/",
          "height": 243
        }
      },
      "source": [
        "# create model combinations (using itertools product)\n",
        "ANN_type = ['FNN','SimpleRNN','LSTM']\n",
        "neurons = [10,25]\n",
        "dropout_rate = [0,0.25]\n",
        "lr = [0.0001]\n",
        "batch_size = [16]\n",
        "\n",
        "all_combinations = list(itertools.product(*[ANN_type,neurons,dropout_rate,lr,batch_size]))\n",
        "print(pd.DataFrame(data=all_combinations, columns=['ann_type','neurons','dropout_rate','lr','batch_size']))"
      ],
      "execution_count": null,
      "outputs": [
        {
          "output_type": "stream",
          "text": [
            "     ann_type  neurons  dropout_rate      lr  batch_size\n",
            "0         FNN       10          0.00  0.0001          16\n",
            "1         FNN       10          0.25  0.0001          16\n",
            "2         FNN       25          0.00  0.0001          16\n",
            "3         FNN       25          0.25  0.0001          16\n",
            "4   SimpleRNN       10          0.00  0.0001          16\n",
            "5   SimpleRNN       10          0.25  0.0001          16\n",
            "6   SimpleRNN       25          0.00  0.0001          16\n",
            "7   SimpleRNN       25          0.25  0.0001          16\n",
            "8        LSTM       10          0.00  0.0001          16\n",
            "9        LSTM       10          0.25  0.0001          16\n",
            "10       LSTM       25          0.00  0.0001          16\n",
            "11       LSTM       25          0.25  0.0001          16\n"
          ],
          "name": "stdout"
        }
      ]
    },
    {
      "cell_type": "code",
      "metadata": {
        "id": "MhbYB6YxEzFc"
      },
      "source": [
        "# result df \n",
        "res_df_rnn = pd.DataFrame(index=np.arange(len(all_combinations)), \n",
        "                      columns=['ann_type','neurons','dropout_rate','lr','batch_size','model_name',\n",
        "                               'tr_loss','val_loss','tr_acc','val_acc','val_f1score','elapsed_time','trainable_params'])\n",
        "\n",
        "rs = [] # histories\n",
        "\n",
        "for i, combination in enumerate(all_combinations):\n",
        "  # extract parameters and create model name  \n",
        "  ANN_type, neurons, dropout_rate, lr, batch_size = combination\n",
        "  model_name = f\"{ANN_type}_neurons={neurons}_dropout={dropout_rate}_lr={lr}_bsize={batch_size}\"\n",
        "  # store in res_df \n",
        "  res_df_rnn.loc[i,['ann_type','neurons', 'dropout_rate','lr','batch_size','model_name']] = combination + (model_name,)\n",
        "\n",
        "  # call backs\n",
        "  earlyStopping = EarlyStopping(monitor='val_loss', patience=50, verbose=1,  min_delta=1e-6, mode='auto')\n",
        "  modelCheckpoint = ModelCheckpoint(f'{model_name}.hdf5', save_best_only=True, monitor='val_loss', mode='auto', save_weights_only=True)\n",
        "  timeStopping = tfa.callbacks.TimeStopping(seconds=5*60, verbose=1)  \n",
        "  callbacks = [earlyStopping, modelCheckpoint, timeStopping]\n",
        "\n",
        "  # create model\n",
        "  if ANN_type == 'FNN':\n",
        "    model = FNNmodel(neurons, dropout_rate=dropout_rate)\n",
        "  else:\n",
        "    model = RNNmodel(neurons, cell_type=ANN_type, dropout_rate=dropout_rate)\n",
        "\n",
        "  # compile\n",
        "  model.compile(loss='binary_crossentropy',optimizer=Adam(lr=lr), metrics=['accuracy'])\n",
        "\n",
        "  # echo screen\n",
        "  print(f'Training {model_name}, #{i+1} of {len(all_combinations)}')\n",
        "  # train\n",
        "  start_time = time.time()\n",
        "  r = model.fit(Xtra, Ytra,epochs=200,validation_data = (Xval, Yval), callbacks=callbacks, verbose=0, batch_size=batch_size)\n",
        "  # append history\n",
        "  rs.append(r)\n",
        "  # store results\n",
        "  res_df_rnn.loc[i,'elapsed_time'] = time.time() - start_time\n",
        "  best_ix = np.array(r.history['val_loss']).argmin()\n",
        "  res_df_rnn.loc[i,['tr_loss','val_loss','tr_acc','val_acc']] = [r.history['loss'][best_ix],r.history['val_loss'][best_ix],\n",
        "                                                                 r.history['accuracy'][best_ix],r.history['val_accuracy'][best_ix]]     \n",
        "  res_df_rnn.loc[i,'trainable_params'] = get_trainable_params(model)\n",
        "  # load weights and compute f1_score\n",
        "  model.load_weights(f'{model_name}.hdf5')\n",
        "  Yval_pred = (model.predict(Xval)>0.5).astype(int).reshape(-1)\n",
        "  res_df_rnn.loc[i,['val_f1score']] = f1_score(Yval,Yval_pred)\n",
        "  print(res_df_rnn.loc[i,['elapsed_time','val_loss','val_acc','val_f1score']])"
      ],
      "execution_count": 10,
      "outputs": []
    },
    {
      "cell_type": "markdown",
      "metadata": {
        "id": "eqcnqcHZzeJV"
      },
      "source": [
        "#### Compare the results"
      ]
    },
    {
      "cell_type": "code",
      "metadata": {
        "id": "FTeUEanYvokZ",
        "outputId": "bd6792c0-cc72-4ef0-90dd-ffa637afd88a",
        "colab": {
          "base_uri": "https://localhost:8080/",
          "height": 439
        }
      },
      "source": [
        "res_df_rnn.sort_values(by='val_loss')"
      ],
      "execution_count": null,
      "outputs": [
        {
          "output_type": "execute_result",
          "data": {
            "text/html": [
              "<div>\n",
              "<style scoped>\n",
              "    .dataframe tbody tr th:only-of-type {\n",
              "        vertical-align: middle;\n",
              "    }\n",
              "\n",
              "    .dataframe tbody tr th {\n",
              "        vertical-align: top;\n",
              "    }\n",
              "\n",
              "    .dataframe thead th {\n",
              "        text-align: right;\n",
              "    }\n",
              "</style>\n",
              "<table border=\"1\" class=\"dataframe\">\n",
              "  <thead>\n",
              "    <tr style=\"text-align: right;\">\n",
              "      <th></th>\n",
              "      <th>ann_type</th>\n",
              "      <th>neurons</th>\n",
              "      <th>dropout_rate</th>\n",
              "      <th>lr</th>\n",
              "      <th>batch_size</th>\n",
              "      <th>model_name</th>\n",
              "      <th>tr_loss</th>\n",
              "      <th>val_loss</th>\n",
              "      <th>tr_acc</th>\n",
              "      <th>val_acc</th>\n",
              "      <th>val_f1score</th>\n",
              "      <th>elapsed_time</th>\n",
              "      <th>trainable_params</th>\n",
              "    </tr>\n",
              "  </thead>\n",
              "  <tbody>\n",
              "    <tr>\n",
              "      <th>10</th>\n",
              "      <td>LSTM</td>\n",
              "      <td>25</td>\n",
              "      <td>0</td>\n",
              "      <td>0.0001</td>\n",
              "      <td>16</td>\n",
              "      <td>LSTM_neurons=25_dropout=0_lr=0.0001_bsize=16</td>\n",
              "      <td>0.29264</td>\n",
              "      <td>0.198214</td>\n",
              "      <td>0.890547</td>\n",
              "      <td>0.960784</td>\n",
              "      <td>0.916667</td>\n",
              "      <td>190.563</td>\n",
              "      <td>2726</td>\n",
              "    </tr>\n",
              "    <tr>\n",
              "      <th>11</th>\n",
              "      <td>LSTM</td>\n",
              "      <td>25</td>\n",
              "      <td>0.25</td>\n",
              "      <td>0.0001</td>\n",
              "      <td>16</td>\n",
              "      <td>LSTM_neurons=25_dropout=0.25_lr=0.0001_bsize=16</td>\n",
              "      <td>0.391369</td>\n",
              "      <td>0.376757</td>\n",
              "      <td>0.781095</td>\n",
              "      <td>0.764706</td>\n",
              "      <td>0</td>\n",
              "      <td>189.637</td>\n",
              "      <td>2726</td>\n",
              "    </tr>\n",
              "    <tr>\n",
              "      <th>9</th>\n",
              "      <td>LSTM</td>\n",
              "      <td>10</td>\n",
              "      <td>0.25</td>\n",
              "      <td>0.0001</td>\n",
              "      <td>16</td>\n",
              "      <td>LSTM_neurons=10_dropout=0.25_lr=0.0001_bsize=16</td>\n",
              "      <td>0.464616</td>\n",
              "      <td>0.443024</td>\n",
              "      <td>0.766169</td>\n",
              "      <td>0.764706</td>\n",
              "      <td>0</td>\n",
              "      <td>180.773</td>\n",
              "      <td>491</td>\n",
              "    </tr>\n",
              "    <tr>\n",
              "      <th>6</th>\n",
              "      <td>SimpleRNN</td>\n",
              "      <td>25</td>\n",
              "      <td>0</td>\n",
              "      <td>0.0001</td>\n",
              "      <td>16</td>\n",
              "      <td>SimpleRNN_neurons=25_dropout=0_lr=0.0001_bsize=16</td>\n",
              "      <td>0.536079</td>\n",
              "      <td>0.534016</td>\n",
              "      <td>0.766169</td>\n",
              "      <td>0.764706</td>\n",
              "      <td>0</td>\n",
              "      <td>300.666</td>\n",
              "      <td>701</td>\n",
              "    </tr>\n",
              "    <tr>\n",
              "      <th>7</th>\n",
              "      <td>SimpleRNN</td>\n",
              "      <td>25</td>\n",
              "      <td>0.25</td>\n",
              "      <td>0.0001</td>\n",
              "      <td>16</td>\n",
              "      <td>SimpleRNN_neurons=25_dropout=0.25_lr=0.0001_bs...</td>\n",
              "      <td>0.544813</td>\n",
              "      <td>0.54544</td>\n",
              "      <td>0.766169</td>\n",
              "      <td>0.764706</td>\n",
              "      <td>0</td>\n",
              "      <td>303.906</td>\n",
              "      <td>701</td>\n",
              "    </tr>\n",
              "    <tr>\n",
              "      <th>8</th>\n",
              "      <td>LSTM</td>\n",
              "      <td>10</td>\n",
              "      <td>0</td>\n",
              "      <td>0.0001</td>\n",
              "      <td>16</td>\n",
              "      <td>LSTM_neurons=10_dropout=0_lr=0.0001_bsize=16</td>\n",
              "      <td>0.542761</td>\n",
              "      <td>0.545633</td>\n",
              "      <td>0.766169</td>\n",
              "      <td>0.764706</td>\n",
              "      <td>0</td>\n",
              "      <td>181.34</td>\n",
              "      <td>491</td>\n",
              "    </tr>\n",
              "    <tr>\n",
              "      <th>2</th>\n",
              "      <td>FNN</td>\n",
              "      <td>25</td>\n",
              "      <td>0</td>\n",
              "      <td>0.0001</td>\n",
              "      <td>16</td>\n",
              "      <td>FNN_neurons=25_dropout=0_lr=0.0001_bsize=16</td>\n",
              "      <td>0.457661</td>\n",
              "      <td>0.551858</td>\n",
              "      <td>0.825871</td>\n",
              "      <td>0.803922</td>\n",
              "      <td>0.285714</td>\n",
              "      <td>6.74984</td>\n",
              "      <td>12451</td>\n",
              "    </tr>\n",
              "    <tr>\n",
              "      <th>1</th>\n",
              "      <td>FNN</td>\n",
              "      <td>10</td>\n",
              "      <td>0.25</td>\n",
              "      <td>0.0001</td>\n",
              "      <td>16</td>\n",
              "      <td>FNN_neurons=10_dropout=0.25_lr=0.0001_bsize=16</td>\n",
              "      <td>0.435033</td>\n",
              "      <td>0.559403</td>\n",
              "      <td>0.860696</td>\n",
              "      <td>0.745098</td>\n",
              "      <td>0.235294</td>\n",
              "      <td>14.3949</td>\n",
              "      <td>4981</td>\n",
              "    </tr>\n",
              "    <tr>\n",
              "      <th>3</th>\n",
              "      <td>FNN</td>\n",
              "      <td>25</td>\n",
              "      <td>0.25</td>\n",
              "      <td>0.0001</td>\n",
              "      <td>16</td>\n",
              "      <td>FNN_neurons=25_dropout=0.25_lr=0.0001_bsize=16</td>\n",
              "      <td>0.514701</td>\n",
              "      <td>0.564566</td>\n",
              "      <td>0.766169</td>\n",
              "      <td>0.764706</td>\n",
              "      <td>0</td>\n",
              "      <td>4.8671</td>\n",
              "      <td>12451</td>\n",
              "    </tr>\n",
              "    <tr>\n",
              "      <th>5</th>\n",
              "      <td>SimpleRNN</td>\n",
              "      <td>10</td>\n",
              "      <td>0.25</td>\n",
              "      <td>0.0001</td>\n",
              "      <td>16</td>\n",
              "      <td>SimpleRNN_neurons=10_dropout=0.25_lr=0.0001_bs...</td>\n",
              "      <td>0.584218</td>\n",
              "      <td>0.566075</td>\n",
              "      <td>0.761194</td>\n",
              "      <td>0.764706</td>\n",
              "      <td>0</td>\n",
              "      <td>302.984</td>\n",
              "      <td>131</td>\n",
              "    </tr>\n",
              "    <tr>\n",
              "      <th>4</th>\n",
              "      <td>SimpleRNN</td>\n",
              "      <td>10</td>\n",
              "      <td>0</td>\n",
              "      <td>0.0001</td>\n",
              "      <td>16</td>\n",
              "      <td>SimpleRNN_neurons=10_dropout=0_lr=0.0001_bsize=16</td>\n",
              "      <td>0.566837</td>\n",
              "      <td>0.567586</td>\n",
              "      <td>0.766169</td>\n",
              "      <td>0.764706</td>\n",
              "      <td>0</td>\n",
              "      <td>302.481</td>\n",
              "      <td>131</td>\n",
              "    </tr>\n",
              "    <tr>\n",
              "      <th>0</th>\n",
              "      <td>FNN</td>\n",
              "      <td>10</td>\n",
              "      <td>0</td>\n",
              "      <td>0.0001</td>\n",
              "      <td>16</td>\n",
              "      <td>FNN_neurons=10_dropout=0_lr=0.0001_bsize=16</td>\n",
              "      <td>0.494018</td>\n",
              "      <td>0.575518</td>\n",
              "      <td>0.781095</td>\n",
              "      <td>0.764706</td>\n",
              "      <td>0</td>\n",
              "      <td>5.89878</td>\n",
              "      <td>4981</td>\n",
              "    </tr>\n",
              "  </tbody>\n",
              "</table>\n",
              "</div>"
            ],
            "text/plain": [
              "     ann_type neurons dropout_rate  ... val_f1score elapsed_time trainable_params\n",
              "10       LSTM      25            0  ...    0.916667      190.563             2726\n",
              "11       LSTM      25         0.25  ...           0      189.637             2726\n",
              "9        LSTM      10         0.25  ...           0      180.773              491\n",
              "6   SimpleRNN      25            0  ...           0      300.666              701\n",
              "7   SimpleRNN      25         0.25  ...           0      303.906              701\n",
              "8        LSTM      10            0  ...           0       181.34              491\n",
              "2         FNN      25            0  ...    0.285714      6.74984            12451\n",
              "1         FNN      10         0.25  ...    0.235294      14.3949             4981\n",
              "3         FNN      25         0.25  ...           0       4.8671            12451\n",
              "5   SimpleRNN      10         0.25  ...           0      302.984              131\n",
              "4   SimpleRNN      10            0  ...           0      302.481              131\n",
              "0         FNN      10            0  ...           0      5.89878             4981\n",
              "\n",
              "[12 rows x 13 columns]"
            ]
          },
          "metadata": {
            "tags": []
          },
          "execution_count": 107
        }
      ]
    },
    {
      "cell_type": "code",
      "metadata": {
        "id": "HIVZJ1UpKkmH",
        "outputId": "c405a43e-794b-4147-f0f0-49df23e920e0",
        "colab": {
          "base_uri": "https://localhost:8080/",
          "height": 585
        }
      },
      "source": [
        "f, axes = plt.subplots(2,1,figsize=(6,8))\n",
        "sns.scatterplot(\n",
        "    data=res_df_rnn, x=\"elapsed_time\", y=\"val_loss\", hue=\"ann_type\", style=\"dropout_rate\", size=\"trainable_params\", sizes=(30, 500), ax=axes[0]);\n",
        "axes[0].legend(bbox_to_anchor=(1.05, 1), loc=2, borderaxespad=0.)\n",
        "axes[0].set_title('Comparison of different ANN models')\n",
        "axes[0].set_xlabel('Training time')\n",
        "axes[0].set_ylabel('Validation loss')\n",
        "\n",
        "best_model_ix = res_df_rnn['val_loss'].astype(float).idxmin();\n",
        "axes[1].plot(rs[best_model_ix].history['loss'],label='Training loss');\n",
        "axes[1].plot(rs[best_model_ix].history['val_loss'],label='Validation loss');\n",
        "axes[1].set_title('Training history of best RNN model');\n",
        "axes[1].set_xlabel('Epoch')\n",
        "axes[1].set_ylabel('Loss')\n",
        "f.tight_layout()"
      ],
      "execution_count": null,
      "outputs": [
        {
          "output_type": "display_data",
          "data": {
            "image/png": "[encoded data removed]",
            "text/plain": [
              "<Figure size 432x576 with 2 Axes>"
            ]
          },
          "metadata": {
            "tags": [],
            "needs_background": "light"
          }
        }
      ]
    }
  ]
}